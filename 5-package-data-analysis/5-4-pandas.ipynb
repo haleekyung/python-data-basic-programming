{
 "cells": [
  {
   "cell_type": "code",
   "execution_count": 1,
   "metadata": {
    "collapsed": true
   },
   "outputs": [
    {
     "name": "stdout",
     "output_type": "stream",
     "text": [
      "Collecting pandas\r\n",
      "  Downloading pandas-1.3.2-cp38-cp38-macosx_10_9_x86_64.whl (11.4 MB)\r\n",
      "\u001B[K     |████████████████████████████████| 11.4 MB 595 kB/s eta 0:00:01\r\n",
      "\u001B[?25hRequirement already satisfied: numpy>=1.17.3 in /Library/Frameworks/Python.framework/Versions/3.8/lib/python3.8/site-packages (from pandas) (1.21.2)\r\n",
      "Collecting pytz>=2017.3\r\n",
      "  Downloading pytz-2021.1-py2.py3-none-any.whl (510 kB)\r\n",
      "\u001B[K     |████████████████████████████████| 510 kB 154 kB/s eta 0:00:01\r\n",
      "\u001B[?25hRequirement already satisfied: python-dateutil>=2.7.3 in /Library/Frameworks/Python.framework/Versions/3.8/lib/python3.8/site-packages (from pandas) (2.8.1)\r\n",
      "Requirement already satisfied: six>=1.5 in /Library/Frameworks/Python.framework/Versions/3.8/lib/python3.8/site-packages (from python-dateutil>=2.7.3->pandas) (1.16.0)\r\n",
      "Installing collected packages: pytz, pandas\r\n",
      "Successfully installed pandas-1.3.2 pytz-2021.1\r\n",
      "Note: you may need to restart the kernel to use updated packages.\n"
     ]
    }
   ],
   "source": [
    "pip install pandas"
   ]
  },
  {
   "cell_type": "code",
   "execution_count": 12,
   "outputs": [],
   "source": [
    "import pandas as pd\n",
    "import re, os"
   ],
   "metadata": {
    "collapsed": false,
    "pycharm": {
     "name": "#%%\n"
    }
   }
  },
  {
   "cell_type": "code",
   "execution_count": 5,
   "outputs": [
    {
     "data": {
      "text/plain": "{'name': ['Mark', 'Jane', 'Chris', 'Ryan'],\n 'age': [33, 32, 44, 42],\n 'score': [91.3, 83.4, 77.5, 87.7]}"
     },
     "execution_count": 5,
     "metadata": {},
     "output_type": "execute_result"
    }
   ],
   "source": [
    "data = {'name' : ['Mark', 'Jane', 'Chris', 'Ryan'],\n",
    "        'age' : [33, 32, 44, 42],\n",
    "        'score' : [91.3, 83.4, 77.5, 87.7]}\n",
    "\n",
    "data"
   ],
   "metadata": {
    "collapsed": false,
    "pycharm": {
     "name": "#%%\n"
    }
   }
  },
  {
   "cell_type": "code",
   "execution_count": 6,
   "outputs": [],
   "source": [
    "# 임의 딕셔너리를 data에 저장함\n",
    "df = pd.DataFrame(data)"
   ],
   "metadata": {
    "collapsed": false,
    "pycharm": {
     "name": "#%%\n"
    }
   }
  },
  {
   "cell_type": "code",
   "execution_count": 7,
   "outputs": [
    {
     "data": {
      "text/plain": "    name  age  score\n0   Mark   33   91.3\n1   Jane   32   83.4\n2  Chris   44   77.5\n3   Ryan   42   87.7",
      "text/html": "<div>\n<style scoped>\n    .dataframe tbody tr th:only-of-type {\n        vertical-align: middle;\n    }\n\n    .dataframe tbody tr th {\n        vertical-align: top;\n    }\n\n    .dataframe thead th {\n        text-align: right;\n    }\n</style>\n<table border=\"1\" class=\"dataframe\">\n  <thead>\n    <tr style=\"text-align: right;\">\n      <th></th>\n      <th>name</th>\n      <th>age</th>\n      <th>score</th>\n    </tr>\n  </thead>\n  <tbody>\n    <tr>\n      <th>0</th>\n      <td>Mark</td>\n      <td>33</td>\n      <td>91.3</td>\n    </tr>\n    <tr>\n      <th>1</th>\n      <td>Jane</td>\n      <td>32</td>\n      <td>83.4</td>\n    </tr>\n    <tr>\n      <th>2</th>\n      <td>Chris</td>\n      <td>44</td>\n      <td>77.5</td>\n    </tr>\n    <tr>\n      <th>3</th>\n      <td>Ryan</td>\n      <td>42</td>\n      <td>87.7</td>\n    </tr>\n  </tbody>\n</table>\n</div>"
     },
     "execution_count": 7,
     "metadata": {},
     "output_type": "execute_result"
    }
   ],
   "source": [
    "df"
   ],
   "metadata": {
    "collapsed": false,
    "pycharm": {
     "name": "#%%\n"
    }
   }
  },
  {
   "cell_type": "code",
   "execution_count": 8,
   "outputs": [
    {
     "data": {
      "text/plain": "name     MarkJaneChrisRyan\nage                    151\nscore                339.9\ndtype: object"
     },
     "execution_count": 8,
     "metadata": {},
     "output_type": "execute_result"
    }
   ],
   "source": [
    "# Sum (합게)\n",
    "df.sum()"
   ],
   "metadata": {
    "collapsed": false,
    "pycharm": {
     "name": "#%%\n"
    }
   }
  },
  {
   "cell_type": "code",
   "execution_count": 9,
   "outputs": [
    {
     "name": "stderr",
     "output_type": "stream",
     "text": [
      "<ipython-input-9-c61f0c8f89b5>:1: FutureWarning: Dropping of nuisance columns in DataFrame reductions (with 'numeric_only=None') is deprecated; in a future version this will raise TypeError.  Select only valid columns before calling the reduction.\n",
      "  df.mean()\n"
     ]
    },
    {
     "data": {
      "text/plain": "age      37.750\nscore    84.975\ndtype: float64"
     },
     "execution_count": 9,
     "metadata": {},
     "output_type": "execute_result"
    }
   ],
   "source": [
    "df.mean()"
   ],
   "metadata": {
    "collapsed": false,
    "pycharm": {
     "name": "#%%\n"
    }
   }
  },
  {
   "cell_type": "code",
   "execution_count": 10,
   "outputs": [
    {
     "data": {
      "text/plain": "0    33\n1    32\n2    44\n3    42\nName: age, dtype: int64"
     },
     "execution_count": 10,
     "metadata": {},
     "output_type": "execute_result"
    }
   ],
   "source": [
    "# 특정 데이터 선택하기\n",
    "df.age"
   ],
   "metadata": {
    "collapsed": false,
    "pycharm": {
     "name": "#%%\n"
    }
   }
  },
  {
   "cell_type": "code",
   "execution_count": 11,
   "outputs": [
    {
     "data": {
      "text/plain": "0    91.3\n1    83.4\n2    77.5\n3    87.7\nName: score, dtype: float64"
     },
     "execution_count": 11,
     "metadata": {},
     "output_type": "execute_result"
    }
   ],
   "source": [
    "df.score"
   ],
   "metadata": {
    "collapsed": false,
    "pycharm": {
     "name": "#%%\n"
    }
   }
  },
  {
   "cell_type": "code",
   "execution_count": 20,
   "outputs": [],
   "source": [
    "# CSV 불러와 데이터프레임으로 만들기\n",
    "os.chdir(r'/Users/leekyungha/PycharmProjects/python-data-basic-programming/5-package-data-analysis/data')"
   ],
   "metadata": {
    "collapsed": false,
    "pycharm": {
     "name": "#%%\n"
    }
   }
  },
  {
   "cell_type": "code",
   "execution_count": 24,
   "outputs": [
    {
     "data": {
      "text/plain": "                 지역      번지   본번  부번           아파트       면적    계약년월  계약일  \\\n0       강원도 강릉시 견소동     202  202   0          송정한신   59.800  201910    4   \n1       강원도 강릉시 견소동     202  202   0          송정한신  116.175  201910   31   \n2       강원도 강릉시 견소동     289  289   0  송정해변신도브래뉴아파트   84.990  201910    5   \n3       강원도 강릉시 견소동     289  289   0  송정해변신도브래뉴아파트   84.990  201910   12   \n4       강원도 강릉시 견소동     289  289   0  송정해변신도브래뉴아파트   84.990  201910   20   \n...             ...     ...  ...  ..           ...      ...     ...  ...   \n42753  충청북도 충주시 호암동   547-6  547   6          호반현대   59.760  201910   29   \n42754  충청북도 충주시 호암동  221-23  221  23    호암리버빌(1단지)   84.680  201910    5   \n42755  충청북도 충주시 호암동  221-23  221  23    호암리버빌(1단지)   84.680  201910   15   \n42756  충청북도 충주시 호암동  221-23  221  23    호암리버빌(1단지)   84.680  201910   17   \n42757  충청북도 충주시 호암동  221-23  221  23    호암리버빌(1단지)   84.680  201910   26   \n\n          가격   층  건축년도           도로명  \n0      10900   5  1997   경강로2539번길 8  \n1      18500  10  1997   경강로2539번길 8  \n2      25000   6  2005  경강로2539번길 22  \n3      20600   3  2005  경강로2539번길 22  \n4      20500   1  2005  경강로2539번길 22  \n...      ...  ..   ...           ...  \n42753   7000   3  1994       신촌2길 28  \n42754  12000  15  2002      원호암5길 32  \n42755  11000   7  2002      원호암5길 32  \n42756  12000  14  2002      원호암5길 32  \n42757  11200  11  2002      원호암5길 32  \n\n[42758 rows x 12 columns]",
      "text/html": "<div>\n<style scoped>\n    .dataframe tbody tr th:only-of-type {\n        vertical-align: middle;\n    }\n\n    .dataframe tbody tr th {\n        vertical-align: top;\n    }\n\n    .dataframe thead th {\n        text-align: right;\n    }\n</style>\n<table border=\"1\" class=\"dataframe\">\n  <thead>\n    <tr style=\"text-align: right;\">\n      <th></th>\n      <th>지역</th>\n      <th>번지</th>\n      <th>본번</th>\n      <th>부번</th>\n      <th>아파트</th>\n      <th>면적</th>\n      <th>계약년월</th>\n      <th>계약일</th>\n      <th>가격</th>\n      <th>층</th>\n      <th>건축년도</th>\n      <th>도로명</th>\n    </tr>\n  </thead>\n  <tbody>\n    <tr>\n      <th>0</th>\n      <td>강원도 강릉시 견소동</td>\n      <td>202</td>\n      <td>202</td>\n      <td>0</td>\n      <td>송정한신</td>\n      <td>59.800</td>\n      <td>201910</td>\n      <td>4</td>\n      <td>10900</td>\n      <td>5</td>\n      <td>1997</td>\n      <td>경강로2539번길 8</td>\n    </tr>\n    <tr>\n      <th>1</th>\n      <td>강원도 강릉시 견소동</td>\n      <td>202</td>\n      <td>202</td>\n      <td>0</td>\n      <td>송정한신</td>\n      <td>116.175</td>\n      <td>201910</td>\n      <td>31</td>\n      <td>18500</td>\n      <td>10</td>\n      <td>1997</td>\n      <td>경강로2539번길 8</td>\n    </tr>\n    <tr>\n      <th>2</th>\n      <td>강원도 강릉시 견소동</td>\n      <td>289</td>\n      <td>289</td>\n      <td>0</td>\n      <td>송정해변신도브래뉴아파트</td>\n      <td>84.990</td>\n      <td>201910</td>\n      <td>5</td>\n      <td>25000</td>\n      <td>6</td>\n      <td>2005</td>\n      <td>경강로2539번길 22</td>\n    </tr>\n    <tr>\n      <th>3</th>\n      <td>강원도 강릉시 견소동</td>\n      <td>289</td>\n      <td>289</td>\n      <td>0</td>\n      <td>송정해변신도브래뉴아파트</td>\n      <td>84.990</td>\n      <td>201910</td>\n      <td>12</td>\n      <td>20600</td>\n      <td>3</td>\n      <td>2005</td>\n      <td>경강로2539번길 22</td>\n    </tr>\n    <tr>\n      <th>4</th>\n      <td>강원도 강릉시 견소동</td>\n      <td>289</td>\n      <td>289</td>\n      <td>0</td>\n      <td>송정해변신도브래뉴아파트</td>\n      <td>84.990</td>\n      <td>201910</td>\n      <td>20</td>\n      <td>20500</td>\n      <td>1</td>\n      <td>2005</td>\n      <td>경강로2539번길 22</td>\n    </tr>\n    <tr>\n      <th>...</th>\n      <td>...</td>\n      <td>...</td>\n      <td>...</td>\n      <td>...</td>\n      <td>...</td>\n      <td>...</td>\n      <td>...</td>\n      <td>...</td>\n      <td>...</td>\n      <td>...</td>\n      <td>...</td>\n      <td>...</td>\n    </tr>\n    <tr>\n      <th>42753</th>\n      <td>충청북도 충주시 호암동</td>\n      <td>547-6</td>\n      <td>547</td>\n      <td>6</td>\n      <td>호반현대</td>\n      <td>59.760</td>\n      <td>201910</td>\n      <td>29</td>\n      <td>7000</td>\n      <td>3</td>\n      <td>1994</td>\n      <td>신촌2길 28</td>\n    </tr>\n    <tr>\n      <th>42754</th>\n      <td>충청북도 충주시 호암동</td>\n      <td>221-23</td>\n      <td>221</td>\n      <td>23</td>\n      <td>호암리버빌(1단지)</td>\n      <td>84.680</td>\n      <td>201910</td>\n      <td>5</td>\n      <td>12000</td>\n      <td>15</td>\n      <td>2002</td>\n      <td>원호암5길 32</td>\n    </tr>\n    <tr>\n      <th>42755</th>\n      <td>충청북도 충주시 호암동</td>\n      <td>221-23</td>\n      <td>221</td>\n      <td>23</td>\n      <td>호암리버빌(1단지)</td>\n      <td>84.680</td>\n      <td>201910</td>\n      <td>15</td>\n      <td>11000</td>\n      <td>7</td>\n      <td>2002</td>\n      <td>원호암5길 32</td>\n    </tr>\n    <tr>\n      <th>42756</th>\n      <td>충청북도 충주시 호암동</td>\n      <td>221-23</td>\n      <td>221</td>\n      <td>23</td>\n      <td>호암리버빌(1단지)</td>\n      <td>84.680</td>\n      <td>201910</td>\n      <td>17</td>\n      <td>12000</td>\n      <td>14</td>\n      <td>2002</td>\n      <td>원호암5길 32</td>\n    </tr>\n    <tr>\n      <th>42757</th>\n      <td>충청북도 충주시 호암동</td>\n      <td>221-23</td>\n      <td>221</td>\n      <td>23</td>\n      <td>호암리버빌(1단지)</td>\n      <td>84.680</td>\n      <td>201910</td>\n      <td>26</td>\n      <td>11200</td>\n      <td>11</td>\n      <td>2002</td>\n      <td>원호암5길 32</td>\n    </tr>\n  </tbody>\n</table>\n<p>42758 rows × 12 columns</p>\n</div>"
     },
     "execution_count": 24,
     "metadata": {},
     "output_type": "execute_result"
    }
   ],
   "source": [
    "# 판다스로 CSV를 불러올 때 : read_csv() 함수 사용\n",
    "df = pd.read_csv('apt.csv')\n",
    "df"
   ],
   "metadata": {
    "collapsed": false,
    "pycharm": {
     "name": "#%%\n"
    }
   }
  },
  {
   "cell_type": "code",
   "execution_count": 25,
   "outputs": [
    {
     "data": {
      "text/plain": "42758"
     },
     "execution_count": 25,
     "metadata": {},
     "output_type": "execute_result"
    }
   ],
   "source": [
    "len(df)"
   ],
   "metadata": {
    "collapsed": false,
    "pycharm": {
     "name": "#%%\n"
    }
   }
  },
  {
   "cell_type": "code",
   "execution_count": 26,
   "outputs": [
    {
     "data": {
      "text/plain": "            지역   번지   본번  부번           아파트       면적    계약년월  계약일     가격   층  \\\n0  강원도 강릉시 견소동  202  202   0          송정한신   59.800  201910    4  10900   5   \n1  강원도 강릉시 견소동  202  202   0          송정한신  116.175  201910   31  18500  10   \n2  강원도 강릉시 견소동  289  289   0  송정해변신도브래뉴아파트   84.990  201910    5  25000   6   \n3  강원도 강릉시 견소동  289  289   0  송정해변신도브래뉴아파트   84.990  201910   12  20600   3   \n4  강원도 강릉시 견소동  289  289   0  송정해변신도브래뉴아파트   84.990  201910   20  20500   1   \n\n   건축년도           도로명  \n0  1997   경강로2539번길 8  \n1  1997   경강로2539번길 8  \n2  2005  경강로2539번길 22  \n3  2005  경강로2539번길 22  \n4  2005  경강로2539번길 22  ",
      "text/html": "<div>\n<style scoped>\n    .dataframe tbody tr th:only-of-type {\n        vertical-align: middle;\n    }\n\n    .dataframe tbody tr th {\n        vertical-align: top;\n    }\n\n    .dataframe thead th {\n        text-align: right;\n    }\n</style>\n<table border=\"1\" class=\"dataframe\">\n  <thead>\n    <tr style=\"text-align: right;\">\n      <th></th>\n      <th>지역</th>\n      <th>번지</th>\n      <th>본번</th>\n      <th>부번</th>\n      <th>아파트</th>\n      <th>면적</th>\n      <th>계약년월</th>\n      <th>계약일</th>\n      <th>가격</th>\n      <th>층</th>\n      <th>건축년도</th>\n      <th>도로명</th>\n    </tr>\n  </thead>\n  <tbody>\n    <tr>\n      <th>0</th>\n      <td>강원도 강릉시 견소동</td>\n      <td>202</td>\n      <td>202</td>\n      <td>0</td>\n      <td>송정한신</td>\n      <td>59.800</td>\n      <td>201910</td>\n      <td>4</td>\n      <td>10900</td>\n      <td>5</td>\n      <td>1997</td>\n      <td>경강로2539번길 8</td>\n    </tr>\n    <tr>\n      <th>1</th>\n      <td>강원도 강릉시 견소동</td>\n      <td>202</td>\n      <td>202</td>\n      <td>0</td>\n      <td>송정한신</td>\n      <td>116.175</td>\n      <td>201910</td>\n      <td>31</td>\n      <td>18500</td>\n      <td>10</td>\n      <td>1997</td>\n      <td>경강로2539번길 8</td>\n    </tr>\n    <tr>\n      <th>2</th>\n      <td>강원도 강릉시 견소동</td>\n      <td>289</td>\n      <td>289</td>\n      <td>0</td>\n      <td>송정해변신도브래뉴아파트</td>\n      <td>84.990</td>\n      <td>201910</td>\n      <td>5</td>\n      <td>25000</td>\n      <td>6</td>\n      <td>2005</td>\n      <td>경강로2539번길 22</td>\n    </tr>\n    <tr>\n      <th>3</th>\n      <td>강원도 강릉시 견소동</td>\n      <td>289</td>\n      <td>289</td>\n      <td>0</td>\n      <td>송정해변신도브래뉴아파트</td>\n      <td>84.990</td>\n      <td>201910</td>\n      <td>12</td>\n      <td>20600</td>\n      <td>3</td>\n      <td>2005</td>\n      <td>경강로2539번길 22</td>\n    </tr>\n    <tr>\n      <th>4</th>\n      <td>강원도 강릉시 견소동</td>\n      <td>289</td>\n      <td>289</td>\n      <td>0</td>\n      <td>송정해변신도브래뉴아파트</td>\n      <td>84.990</td>\n      <td>201910</td>\n      <td>20</td>\n      <td>20500</td>\n      <td>1</td>\n      <td>2005</td>\n      <td>경강로2539번길 22</td>\n    </tr>\n  </tbody>\n</table>\n</div>"
     },
     "execution_count": 26,
     "metadata": {},
     "output_type": "execute_result"
    }
   ],
   "source": [
    "# 처음 또는 마지막 자료 일부분만 출력하기\n",
    "df.head()"
   ],
   "metadata": {
    "collapsed": false,
    "pycharm": {
     "name": "#%%\n"
    }
   }
  },
  {
   "cell_type": "code",
   "execution_count": 27,
   "outputs": [
    {
     "data": {
      "text/plain": "                 지역      번지   본번  부번         아파트     면적    계약년월  계약일     가격  \\\n42753  충청북도 충주시 호암동   547-6  547   6        호반현대  59.76  201910   29   7000   \n42754  충청북도 충주시 호암동  221-23  221  23  호암리버빌(1단지)  84.68  201910    5  12000   \n42755  충청북도 충주시 호암동  221-23  221  23  호암리버빌(1단지)  84.68  201910   15  11000   \n42756  충청북도 충주시 호암동  221-23  221  23  호암리버빌(1단지)  84.68  201910   17  12000   \n42757  충청북도 충주시 호암동  221-23  221  23  호암리버빌(1단지)  84.68  201910   26  11200   \n\n        층  건축년도       도로명  \n42753   3  1994   신촌2길 28  \n42754  15  2002  원호암5길 32  \n42755   7  2002  원호암5길 32  \n42756  14  2002  원호암5길 32  \n42757  11  2002  원호암5길 32  ",
      "text/html": "<div>\n<style scoped>\n    .dataframe tbody tr th:only-of-type {\n        vertical-align: middle;\n    }\n\n    .dataframe tbody tr th {\n        vertical-align: top;\n    }\n\n    .dataframe thead th {\n        text-align: right;\n    }\n</style>\n<table border=\"1\" class=\"dataframe\">\n  <thead>\n    <tr style=\"text-align: right;\">\n      <th></th>\n      <th>지역</th>\n      <th>번지</th>\n      <th>본번</th>\n      <th>부번</th>\n      <th>아파트</th>\n      <th>면적</th>\n      <th>계약년월</th>\n      <th>계약일</th>\n      <th>가격</th>\n      <th>층</th>\n      <th>건축년도</th>\n      <th>도로명</th>\n    </tr>\n  </thead>\n  <tbody>\n    <tr>\n      <th>42753</th>\n      <td>충청북도 충주시 호암동</td>\n      <td>547-6</td>\n      <td>547</td>\n      <td>6</td>\n      <td>호반현대</td>\n      <td>59.76</td>\n      <td>201910</td>\n      <td>29</td>\n      <td>7000</td>\n      <td>3</td>\n      <td>1994</td>\n      <td>신촌2길 28</td>\n    </tr>\n    <tr>\n      <th>42754</th>\n      <td>충청북도 충주시 호암동</td>\n      <td>221-23</td>\n      <td>221</td>\n      <td>23</td>\n      <td>호암리버빌(1단지)</td>\n      <td>84.68</td>\n      <td>201910</td>\n      <td>5</td>\n      <td>12000</td>\n      <td>15</td>\n      <td>2002</td>\n      <td>원호암5길 32</td>\n    </tr>\n    <tr>\n      <th>42755</th>\n      <td>충청북도 충주시 호암동</td>\n      <td>221-23</td>\n      <td>221</td>\n      <td>23</td>\n      <td>호암리버빌(1단지)</td>\n      <td>84.68</td>\n      <td>201910</td>\n      <td>15</td>\n      <td>11000</td>\n      <td>7</td>\n      <td>2002</td>\n      <td>원호암5길 32</td>\n    </tr>\n    <tr>\n      <th>42756</th>\n      <td>충청북도 충주시 호암동</td>\n      <td>221-23</td>\n      <td>221</td>\n      <td>23</td>\n      <td>호암리버빌(1단지)</td>\n      <td>84.68</td>\n      <td>201910</td>\n      <td>17</td>\n      <td>12000</td>\n      <td>14</td>\n      <td>2002</td>\n      <td>원호암5길 32</td>\n    </tr>\n    <tr>\n      <th>42757</th>\n      <td>충청북도 충주시 호암동</td>\n      <td>221-23</td>\n      <td>221</td>\n      <td>23</td>\n      <td>호암리버빌(1단지)</td>\n      <td>84.68</td>\n      <td>201910</td>\n      <td>26</td>\n      <td>11200</td>\n      <td>11</td>\n      <td>2002</td>\n      <td>원호암5길 32</td>\n    </tr>\n  </tbody>\n</table>\n</div>"
     },
     "execution_count": 27,
     "metadata": {},
     "output_type": "execute_result"
    }
   ],
   "source": [
    "df.tail()"
   ],
   "metadata": {
    "collapsed": false,
    "pycharm": {
     "name": "#%%\n"
    }
   }
  },
  {
   "cell_type": "code",
   "execution_count": 28,
   "outputs": [
    {
     "data": {
      "text/plain": "0         강원도 강릉시 견소동\n1         강원도 강릉시 견소동\n2         강원도 강릉시 견소동\n3         강원도 강릉시 견소동\n4         강원도 강릉시 견소동\n             ...     \n42753    충청북도 충주시 호암동\n42754    충청북도 충주시 호암동\n42755    충청북도 충주시 호암동\n42756    충청북도 충주시 호암동\n42757    충청북도 충주시 호암동\nName: 지역, Length: 42758, dtype: object"
     },
     "execution_count": 28,
     "metadata": {},
     "output_type": "execute_result"
    }
   ],
   "source": [
    "# 열 전체 자료 출력하기\n",
    "df.지역"
   ],
   "metadata": {
    "collapsed": false,
    "pycharm": {
     "name": "#%%\n"
    }
   }
  },
  {
   "cell_type": "code",
   "execution_count": 29,
   "outputs": [
    {
     "data": {
      "text/plain": "0         59.800\n1        116.175\n2         84.990\n3         84.990\n4         84.990\n          ...   \n42753     59.760\n42754     84.680\n42755     84.680\n42756     84.680\n42757     84.680\nName: 면적, Length: 42758, dtype: float64"
     },
     "execution_count": 29,
     "metadata": {},
     "output_type": "execute_result"
    }
   ],
   "source": [
    "# 조건별로 출력하기\n",
    "df.면적"
   ],
   "metadata": {
    "collapsed": false,
    "pycharm": {
     "name": "#%%\n"
    }
   }
  },
  {
   "cell_type": "code",
   "execution_count": 30,
   "outputs": [
    {
     "data": {
      "text/plain": "                 지역       번지    본번  부번          아파트        면적    계약년월  계약일  \\\n6        강원도 강릉시 교동     1982  1982   0  강릉교동롯데캐슬1단지  135.1727  201910   21   \n39      강원도 강릉시 남문동    183-2   183   2       삼익그린맨션  164.7540  201910   15   \n334     강원도 속초시 금호동      629   629   0     보람레이크더하임  156.7600  201910   16   \n433     강원도 원주시 개운동  01월 28일    28   1      원주힐스테이트  133.9912  201910    5   \n434     강원도 원주시 개운동  01월 28일    28   1      원주힐스테이트  137.4292  201910   31   \n...             ...      ...   ...  ..          ...       ...     ...  ...   \n42595  충청북도 충주시 문화동     2260  2260   0           럭키  156.7900  201910   21   \n42607  충청북도 충주시 안림동     1166  1166   0         엘리시아  136.1287  201910   19   \n42663  충청북도 충주시 연수동     1627  1627   0      연수힐스테이트  143.2109  201910   14   \n42736  충청북도 충주시 칠금동      626   626   0           삼일  143.5800  201910   20   \n42737  충청북도 충주시 칠금동      626   626   0           삼일  143.5800  201910   21   \n\n          가격   층  건축년도           도로명  \n6      34300   9  2009   화부산로99번길 12  \n39     21000  12  1992      홍제로 7-17  \n334    29500   1  2008  영랑호반길 115-13  \n433    26000  16  2006        행구로 54  \n434    24000  14  2006        행구로 54  \n...      ...  ..   ...           ...  \n42595  15000   3  1993     중원대로 3379  \n42607  18500  12  2007      국원초1길 48  \n42663  31500  13  2007      연수동산로 26  \n42736  18500  12  1996        금릉로 17  \n42737  16200   3  1996        금릉로 17  \n\n[1567 rows x 12 columns]",
      "text/html": "<div>\n<style scoped>\n    .dataframe tbody tr th:only-of-type {\n        vertical-align: middle;\n    }\n\n    .dataframe tbody tr th {\n        vertical-align: top;\n    }\n\n    .dataframe thead th {\n        text-align: right;\n    }\n</style>\n<table border=\"1\" class=\"dataframe\">\n  <thead>\n    <tr style=\"text-align: right;\">\n      <th></th>\n      <th>지역</th>\n      <th>번지</th>\n      <th>본번</th>\n      <th>부번</th>\n      <th>아파트</th>\n      <th>면적</th>\n      <th>계약년월</th>\n      <th>계약일</th>\n      <th>가격</th>\n      <th>층</th>\n      <th>건축년도</th>\n      <th>도로명</th>\n    </tr>\n  </thead>\n  <tbody>\n    <tr>\n      <th>6</th>\n      <td>강원도 강릉시 교동</td>\n      <td>1982</td>\n      <td>1982</td>\n      <td>0</td>\n      <td>강릉교동롯데캐슬1단지</td>\n      <td>135.1727</td>\n      <td>201910</td>\n      <td>21</td>\n      <td>34300</td>\n      <td>9</td>\n      <td>2009</td>\n      <td>화부산로99번길 12</td>\n    </tr>\n    <tr>\n      <th>39</th>\n      <td>강원도 강릉시 남문동</td>\n      <td>183-2</td>\n      <td>183</td>\n      <td>2</td>\n      <td>삼익그린맨션</td>\n      <td>164.7540</td>\n      <td>201910</td>\n      <td>15</td>\n      <td>21000</td>\n      <td>12</td>\n      <td>1992</td>\n      <td>홍제로 7-17</td>\n    </tr>\n    <tr>\n      <th>334</th>\n      <td>강원도 속초시 금호동</td>\n      <td>629</td>\n      <td>629</td>\n      <td>0</td>\n      <td>보람레이크더하임</td>\n      <td>156.7600</td>\n      <td>201910</td>\n      <td>16</td>\n      <td>29500</td>\n      <td>1</td>\n      <td>2008</td>\n      <td>영랑호반길 115-13</td>\n    </tr>\n    <tr>\n      <th>433</th>\n      <td>강원도 원주시 개운동</td>\n      <td>01월 28일</td>\n      <td>28</td>\n      <td>1</td>\n      <td>원주힐스테이트</td>\n      <td>133.9912</td>\n      <td>201910</td>\n      <td>5</td>\n      <td>26000</td>\n      <td>16</td>\n      <td>2006</td>\n      <td>행구로 54</td>\n    </tr>\n    <tr>\n      <th>434</th>\n      <td>강원도 원주시 개운동</td>\n      <td>01월 28일</td>\n      <td>28</td>\n      <td>1</td>\n      <td>원주힐스테이트</td>\n      <td>137.4292</td>\n      <td>201910</td>\n      <td>31</td>\n      <td>24000</td>\n      <td>14</td>\n      <td>2006</td>\n      <td>행구로 54</td>\n    </tr>\n    <tr>\n      <th>...</th>\n      <td>...</td>\n      <td>...</td>\n      <td>...</td>\n      <td>...</td>\n      <td>...</td>\n      <td>...</td>\n      <td>...</td>\n      <td>...</td>\n      <td>...</td>\n      <td>...</td>\n      <td>...</td>\n      <td>...</td>\n    </tr>\n    <tr>\n      <th>42595</th>\n      <td>충청북도 충주시 문화동</td>\n      <td>2260</td>\n      <td>2260</td>\n      <td>0</td>\n      <td>럭키</td>\n      <td>156.7900</td>\n      <td>201910</td>\n      <td>21</td>\n      <td>15000</td>\n      <td>3</td>\n      <td>1993</td>\n      <td>중원대로 3379</td>\n    </tr>\n    <tr>\n      <th>42607</th>\n      <td>충청북도 충주시 안림동</td>\n      <td>1166</td>\n      <td>1166</td>\n      <td>0</td>\n      <td>엘리시아</td>\n      <td>136.1287</td>\n      <td>201910</td>\n      <td>19</td>\n      <td>18500</td>\n      <td>12</td>\n      <td>2007</td>\n      <td>국원초1길 48</td>\n    </tr>\n    <tr>\n      <th>42663</th>\n      <td>충청북도 충주시 연수동</td>\n      <td>1627</td>\n      <td>1627</td>\n      <td>0</td>\n      <td>연수힐스테이트</td>\n      <td>143.2109</td>\n      <td>201910</td>\n      <td>14</td>\n      <td>31500</td>\n      <td>13</td>\n      <td>2007</td>\n      <td>연수동산로 26</td>\n    </tr>\n    <tr>\n      <th>42736</th>\n      <td>충청북도 충주시 칠금동</td>\n      <td>626</td>\n      <td>626</td>\n      <td>0</td>\n      <td>삼일</td>\n      <td>143.5800</td>\n      <td>201910</td>\n      <td>20</td>\n      <td>18500</td>\n      <td>12</td>\n      <td>1996</td>\n      <td>금릉로 17</td>\n    </tr>\n    <tr>\n      <th>42737</th>\n      <td>충청북도 충주시 칠금동</td>\n      <td>626</td>\n      <td>626</td>\n      <td>0</td>\n      <td>삼일</td>\n      <td>143.5800</td>\n      <td>201910</td>\n      <td>21</td>\n      <td>16200</td>\n      <td>3</td>\n      <td>1996</td>\n      <td>금릉로 17</td>\n    </tr>\n  </tbody>\n</table>\n<p>1567 rows × 12 columns</p>\n</div>"
     },
     "execution_count": 30,
     "metadata": {},
     "output_type": "execute_result"
    }
   ],
   "source": [
    "# 130 이상 면적을 가진 것만 출력\n",
    "df[df.면적 > 130]"
   ],
   "metadata": {
    "collapsed": false,
    "pycharm": {
     "name": "#%%\n"
    }
   }
  },
  {
   "cell_type": "code",
   "execution_count": 31,
   "outputs": [
    {
     "data": {
      "text/plain": "6        34300\n39       21000\n334      29500\n433      26000\n434      24000\n         ...  \n42595    15000\n42607    18500\n42663    31500\n42736    18500\n42737    16200\nName: 가격, Length: 1567, dtype: int64"
     },
     "execution_count": 31,
     "metadata": {},
     "output_type": "execute_result"
    }
   ],
   "source": [
    "df.가격[df.면적 > 130]"
   ],
   "metadata": {
    "collapsed": false,
    "pycharm": {
     "name": "#%%\n"
    }
   }
  },
  {
   "cell_type": "code",
   "execution_count": 32,
   "outputs": [
    {
     "data": {
      "text/plain": "862      14900\n927      13800\n16785    14700\n36733    14700\n37726    13700\n38811    14600\n39487    12000\n40680    12500\n41173    14000\n41578    13000\nName: 가격, dtype: int64"
     },
     "execution_count": 32,
     "metadata": {},
     "output_type": "execute_result"
    }
   ],
   "source": [
    "# 여러개의 조건을 넣고싶은 경우\n",
    "df.가격[(df.면적 > 130) & (df.가격 < 15000)]"
   ],
   "metadata": {
    "collapsed": false,
    "pycharm": {
     "name": "#%%\n"
    }
   }
  },
  {
   "cell_type": "code",
   "execution_count": 33,
   "outputs": [
    {
     "data": {
      "text/plain": "0        10900\n6        34300\n35        4600\n36       13200\n37       14700\n         ...  \n42753     7000\n42754    12000\n42755    11000\n42756    12000\n42757    11200\nName: 가격, Length: 11499, dtype: int64"
     },
     "execution_count": 33,
     "metadata": {},
     "output_type": "execute_result"
    }
   ],
   "source": [
    "# 둘 중 하나를 만족하면 결괏값 반환\n",
    "df.가격[(df.면적 > 130) | (df.가격 < 15000)]"
   ],
   "metadata": {
    "collapsed": false,
    "pycharm": {
     "name": "#%%\n"
    }
   }
  },
  {
   "cell_type": "code",
   "execution_count": 34,
   "outputs": [
    {
     "data": {
      "text/plain": "                아파트     가격\n0              송정한신  10900\n1              송정한신  18500\n2      송정해변신도브래뉴아파트  25000\n3      송정해변신도브래뉴아파트  20600\n4      송정해변신도브래뉴아파트  20500\n5   강릉 교동 풍림아이원 아파트  29200\n6       강릉교동롯데캐슬1단지  34300\n7       강릉교동롯데캐슬2단지  32500\n8             교동1주공  16200\n9             교동1주공  21550\n10            교동1주공  21800",
      "text/html": "<div>\n<style scoped>\n    .dataframe tbody tr th:only-of-type {\n        vertical-align: middle;\n    }\n\n    .dataframe tbody tr th {\n        vertical-align: top;\n    }\n\n    .dataframe thead th {\n        text-align: right;\n    }\n</style>\n<table border=\"1\" class=\"dataframe\">\n  <thead>\n    <tr style=\"text-align: right;\">\n      <th></th>\n      <th>아파트</th>\n      <th>가격</th>\n    </tr>\n  </thead>\n  <tbody>\n    <tr>\n      <th>0</th>\n      <td>송정한신</td>\n      <td>10900</td>\n    </tr>\n    <tr>\n      <th>1</th>\n      <td>송정한신</td>\n      <td>18500</td>\n    </tr>\n    <tr>\n      <th>2</th>\n      <td>송정해변신도브래뉴아파트</td>\n      <td>25000</td>\n    </tr>\n    <tr>\n      <th>3</th>\n      <td>송정해변신도브래뉴아파트</td>\n      <td>20600</td>\n    </tr>\n    <tr>\n      <th>4</th>\n      <td>송정해변신도브래뉴아파트</td>\n      <td>20500</td>\n    </tr>\n    <tr>\n      <th>5</th>\n      <td>강릉 교동 풍림아이원 아파트</td>\n      <td>29200</td>\n    </tr>\n    <tr>\n      <th>6</th>\n      <td>강릉교동롯데캐슬1단지</td>\n      <td>34300</td>\n    </tr>\n    <tr>\n      <th>7</th>\n      <td>강릉교동롯데캐슬2단지</td>\n      <td>32500</td>\n    </tr>\n    <tr>\n      <th>8</th>\n      <td>교동1주공</td>\n      <td>16200</td>\n    </tr>\n    <tr>\n      <th>9</th>\n      <td>교동1주공</td>\n      <td>21550</td>\n    </tr>\n    <tr>\n      <th>10</th>\n      <td>교동1주공</td>\n      <td>21800</td>\n    </tr>\n  </tbody>\n</table>\n</div>"
     },
     "execution_count": 34,
     "metadata": {},
     "output_type": "execute_result"
    }
   ],
   "source": [
    "# 원하는 자료만 살펴보기\n",
    "df.loc[:10, ['아파트', '가격']]"
   ],
   "metadata": {
    "collapsed": false,
    "pycharm": {
     "name": "#%%\n"
    }
   }
  },
  {
   "cell_type": "code",
   "execution_count": 35,
   "outputs": [
    {
     "data": {
      "text/plain": "                  아파트     가격\n382          속초청호아이파크  45800\n541          무실e-편한세상  44600\n592          원주반곡아이파크  40700\n842    온의 롯데캐슬 스카이클래스  44000\n843    온의 롯데캐슬 스카이클래스  42900\n...               ...    ...\n42364       신영지웰시티 1차  47700\n42365       신영지웰시티 1차  46000\n42366       신영지웰시티 1차  55800\n42367       신영지웰시티 1차  67000\n42424          봉명아이파크  49000\n\n[10486 rows x 2 columns]",
      "text/html": "<div>\n<style scoped>\n    .dataframe tbody tr th:only-of-type {\n        vertical-align: middle;\n    }\n\n    .dataframe tbody tr th {\n        vertical-align: top;\n    }\n\n    .dataframe thead th {\n        text-align: right;\n    }\n</style>\n<table border=\"1\" class=\"dataframe\">\n  <thead>\n    <tr style=\"text-align: right;\">\n      <th></th>\n      <th>아파트</th>\n      <th>가격</th>\n    </tr>\n  </thead>\n  <tbody>\n    <tr>\n      <th>382</th>\n      <td>속초청호아이파크</td>\n      <td>45800</td>\n    </tr>\n    <tr>\n      <th>541</th>\n      <td>무실e-편한세상</td>\n      <td>44600</td>\n    </tr>\n    <tr>\n      <th>592</th>\n      <td>원주반곡아이파크</td>\n      <td>40700</td>\n    </tr>\n    <tr>\n      <th>842</th>\n      <td>온의 롯데캐슬 스카이클래스</td>\n      <td>44000</td>\n    </tr>\n    <tr>\n      <th>843</th>\n      <td>온의 롯데캐슬 스카이클래스</td>\n      <td>42900</td>\n    </tr>\n    <tr>\n      <th>...</th>\n      <td>...</td>\n      <td>...</td>\n    </tr>\n    <tr>\n      <th>42364</th>\n      <td>신영지웰시티 1차</td>\n      <td>47700</td>\n    </tr>\n    <tr>\n      <th>42365</th>\n      <td>신영지웰시티 1차</td>\n      <td>46000</td>\n    </tr>\n    <tr>\n      <th>42366</th>\n      <td>신영지웰시티 1차</td>\n      <td>55800</td>\n    </tr>\n    <tr>\n      <th>42367</th>\n      <td>신영지웰시티 1차</td>\n      <td>67000</td>\n    </tr>\n    <tr>\n      <th>42424</th>\n      <td>봉명아이파크</td>\n      <td>49000</td>\n    </tr>\n  </tbody>\n</table>\n<p>10486 rows × 2 columns</p>\n</div>"
     },
     "execution_count": 35,
     "metadata": {},
     "output_type": "execute_result"
    }
   ],
   "source": [
    "df.loc[:, ['아파트', '가격']][df.가격 > 40000]"
   ],
   "metadata": {
    "collapsed": false,
    "pycharm": {
     "name": "#%%\n"
    }
   }
  },
  {
   "cell_type": "code",
   "execution_count": 36,
   "outputs": [],
   "source": [
    "df['단가'] = df.가격 / df.면적"
   ],
   "metadata": {
    "collapsed": false,
    "pycharm": {
     "name": "#%%\n"
    }
   }
  },
  {
   "cell_type": "code",
   "execution_count": 39,
   "outputs": [
    {
     "data": {
      "text/plain": "           가격                지역\n17024     600      경상북도 구미시 원평동\n17022     700      경상북도 구미시 원평동\n17637     750  경상북도 칠곡군 약목면 관호리\n17031     800      경상북도 구미시 원평동\n17027     800      경상북도 구미시 원평동\n...       ...               ...\n27036  373000     서울특별시 강남구 대치동\n26805  376640     부산광역시 해운대구 우동\n29946  415000     서울특별시 서초구 반포동\n27061  461000     서울특별시 강남구 도곡동\n31258  485000     서울특별시 용산구 한남동\n\n[42758 rows x 2 columns]",
      "text/html": "<div>\n<style scoped>\n    .dataframe tbody tr th:only-of-type {\n        vertical-align: middle;\n    }\n\n    .dataframe tbody tr th {\n        vertical-align: top;\n    }\n\n    .dataframe thead th {\n        text-align: right;\n    }\n</style>\n<table border=\"1\" class=\"dataframe\">\n  <thead>\n    <tr style=\"text-align: right;\">\n      <th></th>\n      <th>가격</th>\n      <th>지역</th>\n    </tr>\n  </thead>\n  <tbody>\n    <tr>\n      <th>17024</th>\n      <td>600</td>\n      <td>경상북도 구미시 원평동</td>\n    </tr>\n    <tr>\n      <th>17022</th>\n      <td>700</td>\n      <td>경상북도 구미시 원평동</td>\n    </tr>\n    <tr>\n      <th>17637</th>\n      <td>750</td>\n      <td>경상북도 칠곡군 약목면 관호리</td>\n    </tr>\n    <tr>\n      <th>17031</th>\n      <td>800</td>\n      <td>경상북도 구미시 원평동</td>\n    </tr>\n    <tr>\n      <th>17027</th>\n      <td>800</td>\n      <td>경상북도 구미시 원평동</td>\n    </tr>\n    <tr>\n      <th>...</th>\n      <td>...</td>\n      <td>...</td>\n    </tr>\n    <tr>\n      <th>27036</th>\n      <td>373000</td>\n      <td>서울특별시 강남구 대치동</td>\n    </tr>\n    <tr>\n      <th>26805</th>\n      <td>376640</td>\n      <td>부산광역시 해운대구 우동</td>\n    </tr>\n    <tr>\n      <th>29946</th>\n      <td>415000</td>\n      <td>서울특별시 서초구 반포동</td>\n    </tr>\n    <tr>\n      <th>27061</th>\n      <td>461000</td>\n      <td>서울특별시 강남구 도곡동</td>\n    </tr>\n    <tr>\n      <th>31258</th>\n      <td>485000</td>\n      <td>서울특별시 용산구 한남동</td>\n    </tr>\n  </tbody>\n</table>\n<p>42758 rows × 2 columns</p>\n</div>"
     },
     "execution_count": 39,
     "metadata": {},
     "output_type": "execute_result"
    }
   ],
   "source": [
    "df.sort_values(by = '가격').loc[:, ('가격', '지역')]"
   ],
   "metadata": {
    "collapsed": false,
    "pycharm": {
     "name": "#%%\n"
    }
   }
  },
  {
   "cell_type": "code",
   "execution_count": 43,
   "outputs": [
    {
     "data": {
      "text/plain": "           가격             지역           단가\n27011  196000  서울특별시 강남구 개포동  5464.176192\n27009  270000  서울특별시 강남구 개포동  5331.753555\n27008  207000  서울특별시 강남구 개포동  4864.864865\n27007  205000  서울특별시 강남구 개포동  4817.861340\n27006  153000  서울특별시 강남구 개포동  4292.929293\n...       ...            ...          ...\n17027     800   경상북도 구미시 원평동    19.841270\n17025     800   경상북도 구미시 원평동    19.777503\n17032     900   경상북도 구미시 원평동    18.285250\n17024     600   경상북도 구미시 원평동    14.880952\n17022     700   경상북도 구미시 원평동    14.221861\n\n[42758 rows x 3 columns]",
      "text/html": "<div>\n<style scoped>\n    .dataframe tbody tr th:only-of-type {\n        vertical-align: middle;\n    }\n\n    .dataframe tbody tr th {\n        vertical-align: top;\n    }\n\n    .dataframe thead th {\n        text-align: right;\n    }\n</style>\n<table border=\"1\" class=\"dataframe\">\n  <thead>\n    <tr style=\"text-align: right;\">\n      <th></th>\n      <th>가격</th>\n      <th>지역</th>\n      <th>단가</th>\n    </tr>\n  </thead>\n  <tbody>\n    <tr>\n      <th>27011</th>\n      <td>196000</td>\n      <td>서울특별시 강남구 개포동</td>\n      <td>5464.176192</td>\n    </tr>\n    <tr>\n      <th>27009</th>\n      <td>270000</td>\n      <td>서울특별시 강남구 개포동</td>\n      <td>5331.753555</td>\n    </tr>\n    <tr>\n      <th>27008</th>\n      <td>207000</td>\n      <td>서울특별시 강남구 개포동</td>\n      <td>4864.864865</td>\n    </tr>\n    <tr>\n      <th>27007</th>\n      <td>205000</td>\n      <td>서울특별시 강남구 개포동</td>\n      <td>4817.861340</td>\n    </tr>\n    <tr>\n      <th>27006</th>\n      <td>153000</td>\n      <td>서울특별시 강남구 개포동</td>\n      <td>4292.929293</td>\n    </tr>\n    <tr>\n      <th>...</th>\n      <td>...</td>\n      <td>...</td>\n      <td>...</td>\n    </tr>\n    <tr>\n      <th>17027</th>\n      <td>800</td>\n      <td>경상북도 구미시 원평동</td>\n      <td>19.841270</td>\n    </tr>\n    <tr>\n      <th>17025</th>\n      <td>800</td>\n      <td>경상북도 구미시 원평동</td>\n      <td>19.777503</td>\n    </tr>\n    <tr>\n      <th>17032</th>\n      <td>900</td>\n      <td>경상북도 구미시 원평동</td>\n      <td>18.285250</td>\n    </tr>\n    <tr>\n      <th>17024</th>\n      <td>600</td>\n      <td>경상북도 구미시 원평동</td>\n      <td>14.880952</td>\n    </tr>\n    <tr>\n      <th>17022</th>\n      <td>700</td>\n      <td>경상북도 구미시 원평동</td>\n      <td>14.221861</td>\n    </tr>\n  </tbody>\n</table>\n<p>42758 rows × 3 columns</p>\n</div>"
     },
     "execution_count": 43,
     "metadata": {},
     "output_type": "execute_result"
    }
   ],
   "source": [
    "df.sort_values(by = '단가',  ascending = False).loc[:, ('가격', '지역', '단가')]"
   ],
   "metadata": {
    "collapsed": false,
    "pycharm": {
     "name": "#%%\n"
    }
   }
  },
  {
   "cell_type": "code",
   "execution_count": 47,
   "outputs": [
    {
     "data": {
      "text/plain": "           가격        면적               지역\n30111   90000   25.3284  서울특별시 성동구 성수동1가\n27124   74000   28.2460    서울특별시 강남구 역삼동\n27122   74500   28.2460    서울특별시 강남구 역삼동\n27123   76000   28.2460    서울특별시 강남구 역삼동\n29725   43500   30.0100    서울특별시 마포구 아현동\n...       ...       ...              ...\n27118  245000  242.8200    서울특별시 강남구 역삼동\n30002  206000  244.4200    서울특별시 서초구 서초동\n10106  100000  244.6630    경기도 용인수지구 성복동\n31501  240000  273.8200     서울특별시 중구 신당동\n35826  300000  291.3360    인천광역시 연수구 송도동\n\n[10486 rows x 3 columns]",
      "text/html": "<div>\n<style scoped>\n    .dataframe tbody tr th:only-of-type {\n        vertical-align: middle;\n    }\n\n    .dataframe tbody tr th {\n        vertical-align: top;\n    }\n\n    .dataframe thead th {\n        text-align: right;\n    }\n</style>\n<table border=\"1\" class=\"dataframe\">\n  <thead>\n    <tr style=\"text-align: right;\">\n      <th></th>\n      <th>가격</th>\n      <th>면적</th>\n      <th>지역</th>\n    </tr>\n  </thead>\n  <tbody>\n    <tr>\n      <th>30111</th>\n      <td>90000</td>\n      <td>25.3284</td>\n      <td>서울특별시 성동구 성수동1가</td>\n    </tr>\n    <tr>\n      <th>27124</th>\n      <td>74000</td>\n      <td>28.2460</td>\n      <td>서울특별시 강남구 역삼동</td>\n    </tr>\n    <tr>\n      <th>27122</th>\n      <td>74500</td>\n      <td>28.2460</td>\n      <td>서울특별시 강남구 역삼동</td>\n    </tr>\n    <tr>\n      <th>27123</th>\n      <td>76000</td>\n      <td>28.2460</td>\n      <td>서울특별시 강남구 역삼동</td>\n    </tr>\n    <tr>\n      <th>29725</th>\n      <td>43500</td>\n      <td>30.0100</td>\n      <td>서울특별시 마포구 아현동</td>\n    </tr>\n    <tr>\n      <th>...</th>\n      <td>...</td>\n      <td>...</td>\n      <td>...</td>\n    </tr>\n    <tr>\n      <th>27118</th>\n      <td>245000</td>\n      <td>242.8200</td>\n      <td>서울특별시 강남구 역삼동</td>\n    </tr>\n    <tr>\n      <th>30002</th>\n      <td>206000</td>\n      <td>244.4200</td>\n      <td>서울특별시 서초구 서초동</td>\n    </tr>\n    <tr>\n      <th>10106</th>\n      <td>100000</td>\n      <td>244.6630</td>\n      <td>경기도 용인수지구 성복동</td>\n    </tr>\n    <tr>\n      <th>31501</th>\n      <td>240000</td>\n      <td>273.8200</td>\n      <td>서울특별시 중구 신당동</td>\n    </tr>\n    <tr>\n      <th>35826</th>\n      <td>300000</td>\n      <td>291.3360</td>\n      <td>인천광역시 연수구 송도동</td>\n    </tr>\n  </tbody>\n</table>\n<p>10486 rows × 3 columns</p>\n</div>"
     },
     "execution_count": 47,
     "metadata": {},
     "output_type": "execute_result"
    }
   ],
   "source": [
    "df[df.가격 > 40000].sort_values(by = '면적').loc[:, ('가격', '면적', '지역')]"
   ],
   "metadata": {
    "collapsed": false,
    "pycharm": {
     "name": "#%%\n"
    }
   }
  },
  {
   "cell_type": "code",
   "execution_count": 48,
   "outputs": [
    {
     "name": "stderr",
     "output_type": "stream",
     "text": [
      "<ipython-input-48-8123c2137a9f>:1: UserWarning: Boolean Series key will be reindexed to match DataFrame index.\n",
      "  df.sort_values(by = '면적').loc[:, ('가격', '면적', '지역')][df.가격 > 40000]\n"
     ]
    },
    {
     "data": {
      "text/plain": "           가격        면적               지역\n30111   90000   25.3284  서울특별시 성동구 성수동1가\n27122   74500   28.2460    서울특별시 강남구 역삼동\n27124   74000   28.2460    서울특별시 강남구 역삼동\n27123   76000   28.2460    서울특별시 강남구 역삼동\n29725   43500   30.0100    서울특별시 마포구 아현동\n...       ...       ...              ...\n27118  245000  242.8200    서울특별시 강남구 역삼동\n30002  206000  244.4200    서울특별시 서초구 서초동\n10106  100000  244.6630    경기도 용인수지구 성복동\n31501  240000  273.8200     서울특별시 중구 신당동\n35826  300000  291.3360    인천광역시 연수구 송도동\n\n[10486 rows x 3 columns]",
      "text/html": "<div>\n<style scoped>\n    .dataframe tbody tr th:only-of-type {\n        vertical-align: middle;\n    }\n\n    .dataframe tbody tr th {\n        vertical-align: top;\n    }\n\n    .dataframe thead th {\n        text-align: right;\n    }\n</style>\n<table border=\"1\" class=\"dataframe\">\n  <thead>\n    <tr style=\"text-align: right;\">\n      <th></th>\n      <th>가격</th>\n      <th>면적</th>\n      <th>지역</th>\n    </tr>\n  </thead>\n  <tbody>\n    <tr>\n      <th>30111</th>\n      <td>90000</td>\n      <td>25.3284</td>\n      <td>서울특별시 성동구 성수동1가</td>\n    </tr>\n    <tr>\n      <th>27122</th>\n      <td>74500</td>\n      <td>28.2460</td>\n      <td>서울특별시 강남구 역삼동</td>\n    </tr>\n    <tr>\n      <th>27124</th>\n      <td>74000</td>\n      <td>28.2460</td>\n      <td>서울특별시 강남구 역삼동</td>\n    </tr>\n    <tr>\n      <th>27123</th>\n      <td>76000</td>\n      <td>28.2460</td>\n      <td>서울특별시 강남구 역삼동</td>\n    </tr>\n    <tr>\n      <th>29725</th>\n      <td>43500</td>\n      <td>30.0100</td>\n      <td>서울특별시 마포구 아현동</td>\n    </tr>\n    <tr>\n      <th>...</th>\n      <td>...</td>\n      <td>...</td>\n      <td>...</td>\n    </tr>\n    <tr>\n      <th>27118</th>\n      <td>245000</td>\n      <td>242.8200</td>\n      <td>서울특별시 강남구 역삼동</td>\n    </tr>\n    <tr>\n      <th>30002</th>\n      <td>206000</td>\n      <td>244.4200</td>\n      <td>서울특별시 서초구 서초동</td>\n    </tr>\n    <tr>\n      <th>10106</th>\n      <td>100000</td>\n      <td>244.6630</td>\n      <td>경기도 용인수지구 성복동</td>\n    </tr>\n    <tr>\n      <th>31501</th>\n      <td>240000</td>\n      <td>273.8200</td>\n      <td>서울특별시 중구 신당동</td>\n    </tr>\n    <tr>\n      <th>35826</th>\n      <td>300000</td>\n      <td>291.3360</td>\n      <td>인천광역시 연수구 송도동</td>\n    </tr>\n  </tbody>\n</table>\n<p>10486 rows × 3 columns</p>\n</div>"
     },
     "execution_count": 48,
     "metadata": {},
     "output_type": "execute_result"
    }
   ],
   "source": [
    "df.sort_values(by = '면적').loc[:, ('가격', '면적', '지역')][df.가격 > 40000]"
   ],
   "metadata": {
    "collapsed": false,
    "pycharm": {
     "name": "#%%\n"
    }
   }
  },
  {
   "cell_type": "code",
   "execution_count": 50,
   "outputs": [
    {
     "data": {
      "text/plain": "0       -1\n1       -1\n2       -1\n3       -1\n4       -1\n        ..\n42753   -1\n42754   -1\n42755   -1\n42756   -1\n42757   -1\nName: 지역, Length: 42758, dtype: int64"
     },
     "execution_count": 50,
     "metadata": {},
     "output_type": "execute_result"
    }
   ],
   "source": [
    "# 문자열 다루기\n",
    "df.지역.str.find('서울특별시')"
   ],
   "metadata": {
    "collapsed": false,
    "pycharm": {
     "name": "#%%\n"
    }
   }
  },
  {
   "cell_type": "code",
   "execution_count": 51,
   "outputs": [
    {
     "data": {
      "text/plain": "0        4\n1        4\n2        4\n3        4\n4        4\n        ..\n42753   -1\n42754   -1\n42755   -1\n42756   -1\n42757   -1\nName: 지역, Length: 42758, dtype: int64"
     },
     "execution_count": 51,
     "metadata": {},
     "output_type": "execute_result"
    }
   ],
   "source": [
    "df.지역.str.find('강릉')"
   ],
   "metadata": {
    "collapsed": false,
    "pycharm": {
     "name": "#%%\n"
    }
   }
  },
  {
   "cell_type": "code",
   "execution_count": 52,
   "outputs": [
    {
     "data": {
      "text/plain": "              지역   번지   본번  부번           아파트        면적    계약년월  계약일     가격  \\\n0    강원도 강릉시 견소동  202  202   0          송정한신   59.8000  201910    4  10900   \n1    강원도 강릉시 견소동  202  202   0          송정한신  116.1750  201910   31  18500   \n2    강원도 강릉시 견소동  289  289   0  송정해변신도브래뉴아파트   84.9900  201910    5  25000   \n3    강원도 강릉시 견소동  289  289   0  송정해변신도브래뉴아파트   84.9900  201910   12  20600   \n4    강원도 강릉시 견소동  289  289   0  송정해변신도브래뉴아파트   84.9900  201910   20  20500   \n..           ...  ...  ...  ..           ...       ...     ...  ...    ...   \n183  강원도 강릉시 회산동  608  608   0  강릉서희스타힐스리버파크   84.8956  201910   24  24000   \n184  강원도 강릉시 회산동  130  130   0      힐스테이트 강릉   84.9925  201910    7  24000   \n185  강원도 강릉시 회산동  130  130   0      힐스테이트 강릉   74.9974  201910   19  23000   \n186  강원도 강릉시 회산동  130  130   0      힐스테이트 강릉   74.9985  201910   21  24100   \n187  강원도 강릉시 회산동  130  130   0      힐스테이트 강릉   74.9974  201910   29  25400   \n\n      층  건축년도           도로명          단가  \n0     5  1997   경강로2539번길 8  182.274247  \n1    10  1997   경강로2539번길 8  159.242522  \n2     6  2005  경강로2539번길 22  294.152253  \n3     3  2005  경강로2539번길 22  242.381457  \n4     1  2005  경강로2539번길 22  241.204848  \n..   ..   ...           ...         ...  \n183  10  2017       회산로 344  282.700163  \n184   3  2018   회산로383번길 37  282.377857  \n185  15  2018   회산로383번길 37  306.677298  \n186   6  2018   회산로383번길 37  321.339760  \n187  13  2018   회산로383번길 37  338.678408  \n\n[188 rows x 13 columns]",
      "text/html": "<div>\n<style scoped>\n    .dataframe tbody tr th:only-of-type {\n        vertical-align: middle;\n    }\n\n    .dataframe tbody tr th {\n        vertical-align: top;\n    }\n\n    .dataframe thead th {\n        text-align: right;\n    }\n</style>\n<table border=\"1\" class=\"dataframe\">\n  <thead>\n    <tr style=\"text-align: right;\">\n      <th></th>\n      <th>지역</th>\n      <th>번지</th>\n      <th>본번</th>\n      <th>부번</th>\n      <th>아파트</th>\n      <th>면적</th>\n      <th>계약년월</th>\n      <th>계약일</th>\n      <th>가격</th>\n      <th>층</th>\n      <th>건축년도</th>\n      <th>도로명</th>\n      <th>단가</th>\n    </tr>\n  </thead>\n  <tbody>\n    <tr>\n      <th>0</th>\n      <td>강원도 강릉시 견소동</td>\n      <td>202</td>\n      <td>202</td>\n      <td>0</td>\n      <td>송정한신</td>\n      <td>59.8000</td>\n      <td>201910</td>\n      <td>4</td>\n      <td>10900</td>\n      <td>5</td>\n      <td>1997</td>\n      <td>경강로2539번길 8</td>\n      <td>182.274247</td>\n    </tr>\n    <tr>\n      <th>1</th>\n      <td>강원도 강릉시 견소동</td>\n      <td>202</td>\n      <td>202</td>\n      <td>0</td>\n      <td>송정한신</td>\n      <td>116.1750</td>\n      <td>201910</td>\n      <td>31</td>\n      <td>18500</td>\n      <td>10</td>\n      <td>1997</td>\n      <td>경강로2539번길 8</td>\n      <td>159.242522</td>\n    </tr>\n    <tr>\n      <th>2</th>\n      <td>강원도 강릉시 견소동</td>\n      <td>289</td>\n      <td>289</td>\n      <td>0</td>\n      <td>송정해변신도브래뉴아파트</td>\n      <td>84.9900</td>\n      <td>201910</td>\n      <td>5</td>\n      <td>25000</td>\n      <td>6</td>\n      <td>2005</td>\n      <td>경강로2539번길 22</td>\n      <td>294.152253</td>\n    </tr>\n    <tr>\n      <th>3</th>\n      <td>강원도 강릉시 견소동</td>\n      <td>289</td>\n      <td>289</td>\n      <td>0</td>\n      <td>송정해변신도브래뉴아파트</td>\n      <td>84.9900</td>\n      <td>201910</td>\n      <td>12</td>\n      <td>20600</td>\n      <td>3</td>\n      <td>2005</td>\n      <td>경강로2539번길 22</td>\n      <td>242.381457</td>\n    </tr>\n    <tr>\n      <th>4</th>\n      <td>강원도 강릉시 견소동</td>\n      <td>289</td>\n      <td>289</td>\n      <td>0</td>\n      <td>송정해변신도브래뉴아파트</td>\n      <td>84.9900</td>\n      <td>201910</td>\n      <td>20</td>\n      <td>20500</td>\n      <td>1</td>\n      <td>2005</td>\n      <td>경강로2539번길 22</td>\n      <td>241.204848</td>\n    </tr>\n    <tr>\n      <th>...</th>\n      <td>...</td>\n      <td>...</td>\n      <td>...</td>\n      <td>...</td>\n      <td>...</td>\n      <td>...</td>\n      <td>...</td>\n      <td>...</td>\n      <td>...</td>\n      <td>...</td>\n      <td>...</td>\n      <td>...</td>\n      <td>...</td>\n    </tr>\n    <tr>\n      <th>183</th>\n      <td>강원도 강릉시 회산동</td>\n      <td>608</td>\n      <td>608</td>\n      <td>0</td>\n      <td>강릉서희스타힐스리버파크</td>\n      <td>84.8956</td>\n      <td>201910</td>\n      <td>24</td>\n      <td>24000</td>\n      <td>10</td>\n      <td>2017</td>\n      <td>회산로 344</td>\n      <td>282.700163</td>\n    </tr>\n    <tr>\n      <th>184</th>\n      <td>강원도 강릉시 회산동</td>\n      <td>130</td>\n      <td>130</td>\n      <td>0</td>\n      <td>힐스테이트 강릉</td>\n      <td>84.9925</td>\n      <td>201910</td>\n      <td>7</td>\n      <td>24000</td>\n      <td>3</td>\n      <td>2018</td>\n      <td>회산로383번길 37</td>\n      <td>282.377857</td>\n    </tr>\n    <tr>\n      <th>185</th>\n      <td>강원도 강릉시 회산동</td>\n      <td>130</td>\n      <td>130</td>\n      <td>0</td>\n      <td>힐스테이트 강릉</td>\n      <td>74.9974</td>\n      <td>201910</td>\n      <td>19</td>\n      <td>23000</td>\n      <td>15</td>\n      <td>2018</td>\n      <td>회산로383번길 37</td>\n      <td>306.677298</td>\n    </tr>\n    <tr>\n      <th>186</th>\n      <td>강원도 강릉시 회산동</td>\n      <td>130</td>\n      <td>130</td>\n      <td>0</td>\n      <td>힐스테이트 강릉</td>\n      <td>74.9985</td>\n      <td>201910</td>\n      <td>21</td>\n      <td>24100</td>\n      <td>6</td>\n      <td>2018</td>\n      <td>회산로383번길 37</td>\n      <td>321.339760</td>\n    </tr>\n    <tr>\n      <th>187</th>\n      <td>강원도 강릉시 회산동</td>\n      <td>130</td>\n      <td>130</td>\n      <td>0</td>\n      <td>힐스테이트 강릉</td>\n      <td>74.9974</td>\n      <td>201910</td>\n      <td>29</td>\n      <td>25400</td>\n      <td>13</td>\n      <td>2018</td>\n      <td>회산로383번길 37</td>\n      <td>338.678408</td>\n    </tr>\n  </tbody>\n</table>\n<p>188 rows × 13 columns</p>\n</div>"
     },
     "execution_count": 52,
     "metadata": {},
     "output_type": "execute_result"
    }
   ],
   "source": [
    "df[df.지역.str.find('강릉') > -1]"
   ],
   "metadata": {
    "collapsed": false,
    "pycharm": {
     "name": "#%%\n"
    }
   }
  },
  {
   "cell_type": "code",
   "execution_count": 56,
   "outputs": [],
   "source": [
    "dfF = df[df.지역.str.find('강릉') > -1]"
   ],
   "metadata": {
    "collapsed": false,
    "pycharm": {
     "name": "#%%\n"
    }
   }
  },
  {
   "cell_type": "code",
   "execution_count": null,
   "outputs": [],
   "source": [],
   "metadata": {
    "collapsed": false,
    "pycharm": {
     "name": "#%%\n"
    }
   }
  }
 ],
 "metadata": {
  "kernelspec": {
   "display_name": "Python 3",
   "language": "python",
   "name": "python3"
  },
  "language_info": {
   "codemirror_mode": {
    "name": "ipython",
    "version": 2
   },
   "file_extension": ".py",
   "mimetype": "text/x-python",
   "name": "python",
   "nbconvert_exporter": "python",
   "pygments_lexer": "ipython2",
   "version": "2.7.6"
  }
 },
 "nbformat": 4,
 "nbformat_minor": 0
}