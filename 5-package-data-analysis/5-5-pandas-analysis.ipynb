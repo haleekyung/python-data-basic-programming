{
 "cells": [
  {
   "cell_type": "code",
   "execution_count": 1,
   "metadata": {
    "collapsed": true
   },
   "outputs": [],
   "source": [
    "import os, re\n",
    "import pandas as pd"
   ]
  },
  {
   "cell_type": "code",
   "execution_count": 2,
   "outputs": [],
   "source": [
    "os.chdir(r'/Users/leekyungha/PycharmProjects/python-data-basic-programming/5-package-data-analysis/data')"
   ],
   "metadata": {
    "collapsed": false,
    "pycharm": {
     "name": "#%%\n"
    }
   }
  },
  {
   "cell_type": "code",
   "execution_count": 5,
   "outputs": [
    {
     "data": {
      "text/plain": "   sex  income  English  jobSatisfaction  stress\n0    m    3000      500                5       5\n1    f    4000      600                4       4\n2    f    5000      700                3       2\n3    m    6000      800                2       2\n4    m    4000      700                2       5\n5    m    3000      600                1       5\n6    m    3000      500                3       1\n7    m    5000      500                3       2\n8    f    4999      600                4       3\n9    f    5000      700                5       4\n10   m    3000      500                5       5\n11   m    4000      600                4       4\n12   m    5000      700                3       2\n13   m    6000      800                2       5\n14   f    4000      700                2       4\n15   f    3000      600                1       2\n16   m    3000      500                3       2\n17   m    5000      500                3       5\n18   m    4999      600                4       5\n19   m    5000      500                3       1\n20   f    4999      600                4       2\n21   f    5000      700                5       3\n22   f    3000      500                5       4",
      "text/html": "<div>\n<style scoped>\n    .dataframe tbody tr th:only-of-type {\n        vertical-align: middle;\n    }\n\n    .dataframe tbody tr th {\n        vertical-align: top;\n    }\n\n    .dataframe thead th {\n        text-align: right;\n    }\n</style>\n<table border=\"1\" class=\"dataframe\">\n  <thead>\n    <tr style=\"text-align: right;\">\n      <th></th>\n      <th>sex</th>\n      <th>income</th>\n      <th>English</th>\n      <th>jobSatisfaction</th>\n      <th>stress</th>\n    </tr>\n  </thead>\n  <tbody>\n    <tr>\n      <th>0</th>\n      <td>m</td>\n      <td>3000</td>\n      <td>500</td>\n      <td>5</td>\n      <td>5</td>\n    </tr>\n    <tr>\n      <th>1</th>\n      <td>f</td>\n      <td>4000</td>\n      <td>600</td>\n      <td>4</td>\n      <td>4</td>\n    </tr>\n    <tr>\n      <th>2</th>\n      <td>f</td>\n      <td>5000</td>\n      <td>700</td>\n      <td>3</td>\n      <td>2</td>\n    </tr>\n    <tr>\n      <th>3</th>\n      <td>m</td>\n      <td>6000</td>\n      <td>800</td>\n      <td>2</td>\n      <td>2</td>\n    </tr>\n    <tr>\n      <th>4</th>\n      <td>m</td>\n      <td>4000</td>\n      <td>700</td>\n      <td>2</td>\n      <td>5</td>\n    </tr>\n    <tr>\n      <th>5</th>\n      <td>m</td>\n      <td>3000</td>\n      <td>600</td>\n      <td>1</td>\n      <td>5</td>\n    </tr>\n    <tr>\n      <th>6</th>\n      <td>m</td>\n      <td>3000</td>\n      <td>500</td>\n      <td>3</td>\n      <td>1</td>\n    </tr>\n    <tr>\n      <th>7</th>\n      <td>m</td>\n      <td>5000</td>\n      <td>500</td>\n      <td>3</td>\n      <td>2</td>\n    </tr>\n    <tr>\n      <th>8</th>\n      <td>f</td>\n      <td>4999</td>\n      <td>600</td>\n      <td>4</td>\n      <td>3</td>\n    </tr>\n    <tr>\n      <th>9</th>\n      <td>f</td>\n      <td>5000</td>\n      <td>700</td>\n      <td>5</td>\n      <td>4</td>\n    </tr>\n    <tr>\n      <th>10</th>\n      <td>m</td>\n      <td>3000</td>\n      <td>500</td>\n      <td>5</td>\n      <td>5</td>\n    </tr>\n    <tr>\n      <th>11</th>\n      <td>m</td>\n      <td>4000</td>\n      <td>600</td>\n      <td>4</td>\n      <td>4</td>\n    </tr>\n    <tr>\n      <th>12</th>\n      <td>m</td>\n      <td>5000</td>\n      <td>700</td>\n      <td>3</td>\n      <td>2</td>\n    </tr>\n    <tr>\n      <th>13</th>\n      <td>m</td>\n      <td>6000</td>\n      <td>800</td>\n      <td>2</td>\n      <td>5</td>\n    </tr>\n    <tr>\n      <th>14</th>\n      <td>f</td>\n      <td>4000</td>\n      <td>700</td>\n      <td>2</td>\n      <td>4</td>\n    </tr>\n    <tr>\n      <th>15</th>\n      <td>f</td>\n      <td>3000</td>\n      <td>600</td>\n      <td>1</td>\n      <td>2</td>\n    </tr>\n    <tr>\n      <th>16</th>\n      <td>m</td>\n      <td>3000</td>\n      <td>500</td>\n      <td>3</td>\n      <td>2</td>\n    </tr>\n    <tr>\n      <th>17</th>\n      <td>m</td>\n      <td>5000</td>\n      <td>500</td>\n      <td>3</td>\n      <td>5</td>\n    </tr>\n    <tr>\n      <th>18</th>\n      <td>m</td>\n      <td>4999</td>\n      <td>600</td>\n      <td>4</td>\n      <td>5</td>\n    </tr>\n    <tr>\n      <th>19</th>\n      <td>m</td>\n      <td>5000</td>\n      <td>500</td>\n      <td>3</td>\n      <td>1</td>\n    </tr>\n    <tr>\n      <th>20</th>\n      <td>f</td>\n      <td>4999</td>\n      <td>600</td>\n      <td>4</td>\n      <td>2</td>\n    </tr>\n    <tr>\n      <th>21</th>\n      <td>f</td>\n      <td>5000</td>\n      <td>700</td>\n      <td>5</td>\n      <td>3</td>\n    </tr>\n    <tr>\n      <th>22</th>\n      <td>f</td>\n      <td>3000</td>\n      <td>500</td>\n      <td>5</td>\n      <td>4</td>\n    </tr>\n  </tbody>\n</table>\n</div>"
     },
     "execution_count": 5,
     "metadata": {},
     "output_type": "execute_result"
    }
   ],
   "source": [
    "df2 = pd.read_csv('survey.csv')\n",
    "df2"
   ],
   "metadata": {
    "collapsed": false,
    "pycharm": {
     "name": "#%%\n"
    }
   }
  },
  {
   "cell_type": "code",
   "execution_count": 9,
   "outputs": [
    {
     "name": "stderr",
     "output_type": "stream",
     "text": [
      "<ipython-input-9-4a56ca50fe8e>:1: FutureWarning: Dropping of nuisance columns in DataFrame reductions (with 'numeric_only=None') is deprecated; in a future version this will raise TypeError.  Select only valid columns before calling the reduction.\n",
      "  df2.mean()\n"
     ]
    },
    {
     "data": {
      "text/plain": "income             4304.217391\nEnglish             608.695652\njobSatisfaction       3.304348\nstress                3.347826\ndtype: float64"
     },
     "execution_count": 9,
     "metadata": {},
     "output_type": "execute_result"
    }
   ],
   "source": [
    "df2.mean()"
   ],
   "metadata": {
    "collapsed": false,
    "pycharm": {
     "name": "#%%\n"
    }
   }
  },
  {
   "cell_type": "code",
   "execution_count": 10,
   "outputs": [
    {
     "data": {
      "text/plain": "4304.217391304348"
     },
     "execution_count": 10,
     "metadata": {},
     "output_type": "execute_result"
    }
   ],
   "source": [
    "df2.income.mean()"
   ],
   "metadata": {
    "collapsed": false,
    "pycharm": {
     "name": "#%%\n"
    }
   }
  },
  {
   "cell_type": "code",
   "execution_count": 11,
   "outputs": [
    {
     "data": {
      "text/plain": "98997"
     },
     "execution_count": 11,
     "metadata": {},
     "output_type": "execute_result"
    }
   ],
   "source": [
    "df2.income.sum()"
   ],
   "metadata": {
    "collapsed": false,
    "pycharm": {
     "name": "#%%\n"
    }
   }
  },
  {
   "cell_type": "code",
   "execution_count": 12,
   "outputs": [
    {
     "data": {
      "text/plain": "sex                mffmmmmmffmmmmffmmmmfff\nincome                               98997\nEnglish                              14000\njobSatisfaction                         76\nstress                                  77\ndtype: object"
     },
     "execution_count": 12,
     "metadata": {},
     "output_type": "execute_result"
    }
   ],
   "source": [
    "df2.sum()"
   ],
   "metadata": {
    "collapsed": false,
    "pycharm": {
     "name": "#%%\n"
    }
   }
  },
  {
   "cell_type": "code",
   "execution_count": 13,
   "outputs": [
    {
     "name": "stderr",
     "output_type": "stream",
     "text": [
      "<ipython-input-13-cefa5b2080f7>:1: FutureWarning: Dropping of nuisance columns in DataFrame reductions (with 'numeric_only=None') is deprecated; in a future version this will raise TypeError.  Select only valid columns before calling the reduction.\n",
      "  df2.std()\n"
     ]
    },
    {
     "data": {
      "text/plain": "income             1019.478341\nEnglish              99.603959\njobSatisfaction       1.258960\nstress                1.433644\ndtype: float64"
     },
     "execution_count": 13,
     "metadata": {},
     "output_type": "execute_result"
    }
   ],
   "source": [
    "df2.std()"
   ],
   "metadata": {
    "collapsed": false,
    "pycharm": {
     "name": "#%%\n"
    }
   }
  },
  {
   "cell_type": "code",
   "execution_count": 14,
   "outputs": [
    {
     "name": "stderr",
     "output_type": "stream",
     "text": [
      "<ipython-input-14-4260c243dd82>:1: FutureWarning: Dropping of nuisance columns in DataFrame reductions (with 'numeric_only=None') is deprecated; in a future version this will raise TypeError.  Select only valid columns before calling the reduction.\n",
      "  df2.var()\n"
     ]
    },
    {
     "data": {
      "text/plain": "income             1.039336e+06\nEnglish            9.920949e+03\njobSatisfaction    1.584980e+00\nstress             2.055336e+00\ndtype: float64"
     },
     "execution_count": 14,
     "metadata": {},
     "output_type": "execute_result"
    }
   ],
   "source": [
    "df2.var()"
   ],
   "metadata": {
    "collapsed": false,
    "pycharm": {
     "name": "#%%\n"
    }
   }
  },
  {
   "cell_type": "code",
   "execution_count": 15,
   "outputs": [
    {
     "name": "stderr",
     "output_type": "stream",
     "text": [
      "<ipython-input-15-05e26ec02eba>:1: FutureWarning: Dropping of nuisance columns in DataFrame reductions (with 'numeric_only=None') is deprecated; in a future version this will raise TypeError.  Select only valid columns before calling the reduction.\n",
      "  df2.median()\n"
     ]
    },
    {
     "data": {
      "text/plain": "income             4999.0\nEnglish             600.0\njobSatisfaction       3.0\nstress                4.0\ndtype: float64"
     },
     "execution_count": 15,
     "metadata": {},
     "output_type": "execute_result"
    }
   ],
   "source": [
    "df2.median()"
   ],
   "metadata": {
    "collapsed": false,
    "pycharm": {
     "name": "#%%\n"
    }
   }
  },
  {
   "cell_type": "code",
   "execution_count": 16,
   "outputs": [
    {
     "data": {
      "text/plain": "            income     English  jobSatisfaction     stress\ncount    23.000000   23.000000        23.000000  23.000000\nmean   4304.217391  608.695652         3.304348   3.347826\nstd    1019.478341   99.603959         1.258960   1.433644\nmin    3000.000000  500.000000         1.000000   1.000000\n25%    3000.000000  500.000000         2.500000   2.000000\n50%    4999.000000  600.000000         3.000000   4.000000\n75%    5000.000000  700.000000         4.000000   5.000000\nmax    6000.000000  800.000000         5.000000   5.000000",
      "text/html": "<div>\n<style scoped>\n    .dataframe tbody tr th:only-of-type {\n        vertical-align: middle;\n    }\n\n    .dataframe tbody tr th {\n        vertical-align: top;\n    }\n\n    .dataframe thead th {\n        text-align: right;\n    }\n</style>\n<table border=\"1\" class=\"dataframe\">\n  <thead>\n    <tr style=\"text-align: right;\">\n      <th></th>\n      <th>income</th>\n      <th>English</th>\n      <th>jobSatisfaction</th>\n      <th>stress</th>\n    </tr>\n  </thead>\n  <tbody>\n    <tr>\n      <th>count</th>\n      <td>23.000000</td>\n      <td>23.000000</td>\n      <td>23.000000</td>\n      <td>23.000000</td>\n    </tr>\n    <tr>\n      <th>mean</th>\n      <td>4304.217391</td>\n      <td>608.695652</td>\n      <td>3.304348</td>\n      <td>3.347826</td>\n    </tr>\n    <tr>\n      <th>std</th>\n      <td>1019.478341</td>\n      <td>99.603959</td>\n      <td>1.258960</td>\n      <td>1.433644</td>\n    </tr>\n    <tr>\n      <th>min</th>\n      <td>3000.000000</td>\n      <td>500.000000</td>\n      <td>1.000000</td>\n      <td>1.000000</td>\n    </tr>\n    <tr>\n      <th>25%</th>\n      <td>3000.000000</td>\n      <td>500.000000</td>\n      <td>2.500000</td>\n      <td>2.000000</td>\n    </tr>\n    <tr>\n      <th>50%</th>\n      <td>4999.000000</td>\n      <td>600.000000</td>\n      <td>3.000000</td>\n      <td>4.000000</td>\n    </tr>\n    <tr>\n      <th>75%</th>\n      <td>5000.000000</td>\n      <td>700.000000</td>\n      <td>4.000000</td>\n      <td>5.000000</td>\n    </tr>\n    <tr>\n      <th>max</th>\n      <td>6000.000000</td>\n      <td>800.000000</td>\n      <td>5.000000</td>\n      <td>5.000000</td>\n    </tr>\n  </tbody>\n</table>\n</div>"
     },
     "execution_count": 16,
     "metadata": {},
     "output_type": "execute_result"
    }
   ],
   "source": [
    "# 기초통계량 요약해서 출력하기: 데이터 최대, 최소값, 표준편차 등 - describe()\n",
    "df2.describe()"
   ],
   "metadata": {
    "collapsed": false,
    "pycharm": {
     "name": "#%%\n"
    }
   }
  },
  {
   "cell_type": "code",
   "execution_count": 18,
   "outputs": [
    {
     "data": {
      "text/plain": "m    14\nf     9\nName: sex, dtype: int64"
     },
     "execution_count": 18,
     "metadata": {},
     "output_type": "execute_result"
    }
   ],
   "source": [
    "# 빈도분석 - value_counts() : 몇 명의 사람들이 응답했는가? 성별을 기준으로 표시\n",
    "df2.sex.value_counts()"
   ],
   "metadata": {
    "collapsed": false,
    "pycharm": {
     "name": "#%%\n"
    }
   }
  },
  {
   "cell_type": "code",
   "execution_count": 21,
   "outputs": [
    {
     "data": {
      "text/plain": "          income     English  jobSatisfaction    stress\nsex                                                    \nf    4333.111111  633.333333         3.666667  3.111111\nm    4285.642857  592.857143         3.071429  3.500000",
      "text/html": "<div>\n<style scoped>\n    .dataframe tbody tr th:only-of-type {\n        vertical-align: middle;\n    }\n\n    .dataframe tbody tr th {\n        vertical-align: top;\n    }\n\n    .dataframe thead th {\n        text-align: right;\n    }\n</style>\n<table border=\"1\" class=\"dataframe\">\n  <thead>\n    <tr style=\"text-align: right;\">\n      <th></th>\n      <th>income</th>\n      <th>English</th>\n      <th>jobSatisfaction</th>\n      <th>stress</th>\n    </tr>\n    <tr>\n      <th>sex</th>\n      <th></th>\n      <th></th>\n      <th></th>\n      <th></th>\n    </tr>\n  </thead>\n  <tbody>\n    <tr>\n      <th>f</th>\n      <td>4333.111111</td>\n      <td>633.333333</td>\n      <td>3.666667</td>\n      <td>3.111111</td>\n    </tr>\n    <tr>\n      <th>m</th>\n      <td>4285.642857</td>\n      <td>592.857143</td>\n      <td>3.071429</td>\n      <td>3.500000</td>\n    </tr>\n  </tbody>\n</table>\n</div>"
     },
     "execution_count": 21,
     "metadata": {},
     "output_type": "execute_result"
    }
   ],
   "source": [
    "# 두 집단의 평균 구하기 : groupby()\n",
    "df2.groupby(df2.sex).mean()"
   ],
   "metadata": {
    "collapsed": false,
    "pycharm": {
     "name": "#%%\n"
    }
   }
  },
  {
   "cell_type": "code",
   "execution_count": null,
   "outputs": [],
   "source": [
    "#"
   ],
   "metadata": {
    "collapsed": false,
    "pycharm": {
     "name": "#%%\n"
    }
   }
  }
 ],
 "metadata": {
  "kernelspec": {
   "display_name": "Python 3",
   "language": "python",
   "name": "python3"
  },
  "language_info": {
   "codemirror_mode": {
    "name": "ipython",
    "version": 2
   },
   "file_extension": ".py",
   "mimetype": "text/x-python",
   "name": "python",
   "nbconvert_exporter": "python",
   "pygments_lexer": "ipython2",
   "version": "2.7.6"
  }
 },
 "nbformat": 4,
 "nbformat_minor": 0
}