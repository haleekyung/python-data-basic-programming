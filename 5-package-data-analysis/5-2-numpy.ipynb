{
 "cells": [
  {
   "cell_type": "code",
   "execution_count": 1,
   "metadata": {
    "collapsed": true
   },
   "outputs": [],
   "source": [
    "## 맥 데스크톱에서 작업을 하던 중 폴더가 날아가 이전 작업이 사라졌음\n",
    "## 넘파이 배열에 대한 기본지식은 study-note repository 에 기술함"
   ]
  },
  {
   "cell_type": "code",
   "execution_count": 20,
   "outputs": [],
   "source": [
    "import re, os\n",
    "import usecsv"
   ],
   "metadata": {
    "collapsed": false,
    "pycharm": {
     "name": "#%%\n"
    }
   }
  },
  {
   "cell_type": "code",
   "execution_count": 21,
   "outputs": [],
   "source": [
    "os.chdir(r'/Users/leekyungha/PycharmProjects/python-data-basic-programming/5-package-data-analysis/data')"
   ],
   "metadata": {
    "collapsed": false,
    "pycharm": {
     "name": "#%%\n"
    }
   }
  },
  {
   "cell_type": "code",
   "execution_count": 25,
   "outputs": [
    {
     "data": {
      "text/plain": "array([['1', '2', '1', '2', '2'],\n       ['1', '3', '2', '3', '2'],\n       ['1', '4', '3', '3', '3'],\n       ['2', '5', '4', '4', '4'],\n       ['2', '5', '6', '2', '5'],\n       ['3', '6', '4', '2', '5'],\n       ['3', '5', '4', '1', '6'],\n       ['3', '5', '5', '1', '3']], dtype='<U1')"
     },
     "execution_count": 25,
     "metadata": {},
     "output_type": "execute_result"
    }
   ],
   "source": [
    "quest = np.array(usecsv.opencsv('quest.csv'))\n",
    "quest"
   ],
   "metadata": {
    "collapsed": false,
    "pycharm": {
     "name": "#%%\n"
    }
   }
  },
  {
   "cell_type": "code",
   "execution_count": 27,
   "outputs": [
    {
     "data": {
      "text/plain": "array([['1', '2', '1', '2', '2'],\n       ['1', '3', '2', '3', '2'],\n       ['1', '4', '3', '3', '3'],\n       ['2', '5', '4', '4', '4'],\n       ['2', '5', '6', '2', '5'],\n       ['3', '6', '4', '2', '5'],\n       ['3', '5', '4', '1', '6'],\n       ['3', '5', '5', '1', '3']], dtype='<U1')"
     },
     "execution_count": 27,
     "metadata": {},
     "output_type": "execute_result"
    }
   ],
   "source": [
    "usecsv.switch(quest)"
   ],
   "metadata": {
    "collapsed": false,
    "pycharm": {
     "name": "#%%\n"
    }
   }
  },
  {
   "cell_type": "code",
   "execution_count": 28,
   "outputs": [
    {
     "data": {
      "text/plain": "array([['1', '2', '1', '2', '2'],\n       ['1', '3', '2', '3', '2'],\n       ['1', '4', '3', '3', '3'],\n       ['2', '5', '4', '4', '4'],\n       ['2', '5', '6', '2', '5'],\n       ['3', '6', '4', '2', '5'],\n       ['3', '5', '4', '1', '6'],\n       ['3', '5', '5', '1', '3']], dtype='<U1')"
     },
     "execution_count": 28,
     "metadata": {},
     "output_type": "execute_result"
    }
   ],
   "source": [
    "def switch(listName):\n",
    "    for i in listName:\n",
    "        for j in i:\n",
    "            try:\n",
    "                i[i.index(j)] = float(re.sub(',', '', j))\n",
    "            except:\n",
    "                pass\n",
    "    return listName\n",
    "\n",
    "switch(quest)"
   ],
   "metadata": {
    "collapsed": false,
    "pycharm": {
     "name": "#%%\n"
    }
   }
  },
  {
   "cell_type": "code",
   "execution_count": 32,
   "outputs": [],
   "source": [
    "for i in quest:\n",
    "    for j in i:\n",
    "        try:\n",
    "            i[i.index(j)] = float(re.sub(',', '', j))\n",
    "            print(quest)\n",
    "        except:\n",
    "            pass"
   ],
   "metadata": {
    "collapsed": false,
    "pycharm": {
     "name": "#%%\n"
    }
   }
  },
  {
   "cell_type": "code",
   "execution_count": null,
   "outputs": [],
   "source": [],
   "metadata": {
    "collapsed": false,
    "pycharm": {
     "name": "#%%\n"
    }
   }
  }
 ],
 "metadata": {
  "kernelspec": {
   "name": "pycharm-5941a516",
   "language": "python",
   "display_name": "PyCharm (python-coding-pratice)"
  },
  "language_info": {
   "codemirror_mode": {
    "name": "ipython",
    "version": 2
   },
   "file_extension": ".py",
   "mimetype": "text/x-python",
   "name": "python",
   "nbconvert_exporter": "python",
   "pygments_lexer": "ipython2",
   "version": "2.7.6"
  }
 },
 "nbformat": 4,
 "nbformat_minor": 0
}