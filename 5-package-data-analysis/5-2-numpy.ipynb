{
 "cells": [
  {
   "cell_type": "code",
   "execution_count": null,
   "outputs": [],
   "source": [
    "## 맥 데스크톱에서 작업을 하던 중 폴더가 날아가 이전 작업이 사라졌음\n",
    "## 넘파이 배열에 대한 기본지식은 study-note repository 에 기술함\n",
    "\n",
    "pip install numpy"
   ],
   "metadata": {
    "collapsed": false,
    "pycharm": {
     "name": "#%%\n"
    }
   }
  },
  {
   "cell_type": "code",
   "execution_count": null,
   "outputs": [],
   "source": [
    "import re, os\n",
    "import usecsv\n",
    "import numpy as np"
   ],
   "metadata": {
    "collapsed": false,
    "pycharm": {
     "name": "#%%\n"
    }
   }
  },
  {
   "cell_type": "code",
   "execution_count": null,
   "outputs": [],
   "source": [
    "os.chdir(r'/Users/leekyungha/PycharmProjects/python-data-basic-programming/5-package-data-analysis/data')"
   ],
   "metadata": {
    "collapsed": false,
    "pycharm": {
     "name": "#%%\n"
    }
   }
  },
  {
   "cell_type": "code",
   "execution_count": null,
   "outputs": [],
   "source": [
    "quest = np.array(usecsv.opencsv('quest.csv'))\n",
    "quest"
   ],
   "metadata": {
    "collapsed": false,
    "pycharm": {
     "name": "#%%\n"
    }
   }
  },
  {
   "cell_type": "code",
   "execution_count": null,
   "outputs": [],
   "source": [
    "# 여기 : 타입 안바뀜\n",
    "# 해당 부분은 'usecsv' 모듈을 따로 만들어 사용\n",
    "# 결과값으로 numpy.ndarray 로 나옴. 넘파이 배열로 만들어서 그런 것 같은데, 배열 내부 숫자 타입을 확인할 수 없음\n",
    "usecsv.switch(quest)\n",
    "\n",
    "type(quest)"
   ],
   "metadata": {
    "collapsed": false,
    "pycharm": {
     "name": "#%%\n"
    }
   }
  },
  {
   "cell_type": "code",
   "execution_count": null,
   "outputs": [],
   "source": [
    "# 여기 : 타입 안바뀜\n",
    "# 위에 모듈이 이상해 그런가 해서 직접 모듈에 있던 switch 함수를 불러왔으나, 같은 문제 발생\n",
    "def switch(listName):\n",
    "    for i in listName:\n",
    "        for j in i:\n",
    "            try:\n",
    "                i[i.index(j)] = float(re.sub(',', '', j))\n",
    "            except:\n",
    "                pass\n",
    "    return listName\n",
    "\n",
    "switch(quest)"
   ],
   "metadata": {
    "collapsed": false,
    "pycharm": {
     "name": "#%%\n"
    }
   }
  },
  {
   "cell_type": "code",
   "execution_count": null,
   "outputs": [],
   "source": [
    "# 이부분 오류\n",
    "quest > 8"
   ],
   "metadata": {
    "collapsed": false,
    "pycharm": {
     "name": "#%%\n"
    }
   }
  },
  {
   "cell_type": "code",
   "execution_count": 17,
   "outputs": [
    {
     "data": {
      "text/plain": "array([[1., 2., 1., 2., 2.],\n       [1., 3., 2., 3., 2.],\n       [1., 4., 3., 3., 3.],\n       [2., 5., 4., 4., 4.],\n       [2., 5., 6., 2., 5.],\n       [3., 6., 4., 2., 5.],\n       [3., 5., 4., 1., 6.],\n       [3., 5., 5., 1., 3.]])"
     },
     "execution_count": 17,
     "metadata": {},
     "output_type": "execute_result"
    }
   ],
   "source": [
    "\n",
    "quest.astype('float64')"
   ],
   "metadata": {
    "collapsed": false,
    "pycharm": {
     "name": "#%%\n"
    }
   }
  },
  {
   "cell_type": "code",
   "execution_count": 18,
   "outputs": [
    {
     "ename": "TypeError",
     "evalue": "'>' not supported between instances of 'numpy.ndarray' and 'int'",
     "output_type": "error",
     "traceback": [
      "\u001B[0;31m---------------------------------------------------------------------------\u001B[0m",
      "\u001B[0;31mTypeError\u001B[0m                                 Traceback (most recent call last)",
      "\u001B[0;32m<ipython-input-18-63d4c158cea9>\u001B[0m in \u001B[0;36m<module>\u001B[0;34m\u001B[0m\n\u001B[0;32m----> 1\u001B[0;31m \u001B[0mquest\u001B[0m \u001B[0;34m>\u001B[0m \u001B[0;36m8\u001B[0m\u001B[0;34m\u001B[0m\u001B[0;34m\u001B[0m\u001B[0m\n\u001B[0m",
      "\u001B[0;31mTypeError\u001B[0m: '>' not supported between instances of 'numpy.ndarray' and 'int'"
     ]
    }
   ],
   "source": [
    "quest > 8"
   ],
   "metadata": {
    "collapsed": false,
    "pycharm": {
     "name": "#%%\n"
    }
   }
  },
  {
   "cell_type": "code",
   "execution_count": 23,
   "outputs": [
    {
     "name": "stdout",
     "output_type": "stream",
     "text": [
      "[[1. 2. 1. 2. 2.]\n",
      " [1. 3. 2. 3. 2.]\n",
      " [1. 4. 3. 3. 3.]\n",
      " [2. 5. 4. 4. 4.]\n",
      " [2. 5. 6. 2. 5.]\n",
      " [3. 6. 4. 2. 5.]\n",
      " [3. 5. 4. 1. 6.]\n",
      " [3. 5. 5. 1. 3.]]\n"
     ]
    }
   ],
   "source": [
    "import re, os\n",
    "import usecsv\n",
    "import numpy as np\n",
    "\n",
    "os.chdir(r'/Users/leekyungha/PycharmProjects/python-data-basic-programming/5-package-data-analysis/data')\n",
    "quest = np.array(usecsv.opencsv('quest.csv'))\n",
    "\n",
    "floatArray = quest.astype('float64')\n",
    "\n",
    "print(floatArray)"
   ],
   "metadata": {
    "collapsed": false,
    "pycharm": {
     "name": "#%%\n"
    }
   }
  },
  {
   "cell_type": "code",
   "execution_count": 24,
   "outputs": [
    {
     "name": "stdout",
     "output_type": "stream",
     "text": [
      "<class 'numpy.float64'>\n"
     ]
    }
   ],
   "source": [
    "\n",
    "print(type(floatArray[0][0]))"
   ],
   "metadata": {
    "collapsed": false,
    "pycharm": {
     "name": "#%%\n"
    }
   }
  },
  {
   "cell_type": "code",
   "execution_count": 25,
   "outputs": [
    {
     "name": "stdout",
     "output_type": "stream",
     "text": [
      "[[False False False False False]\n",
      " [False False False False False]\n",
      " [False False False False False]\n",
      " [False False False False False]\n",
      " [False False False False False]\n",
      " [False False False False False]\n",
      " [False False False False False]\n",
      " [False False False False False]]\n"
     ]
    }
   ],
   "source": [
    "print(floatArray > 8)"
   ],
   "metadata": {
    "collapsed": false,
    "pycharm": {
     "name": "#%%\n"
    }
   }
  },
  {
   "cell_type": "code",
   "execution_count": 26,
   "outputs": [
    {
     "data": {
      "text/plain": "array([6., 6., 6.])"
     },
     "execution_count": 26,
     "metadata": {},
     "output_type": "execute_result"
    }
   ],
   "source": [
    "floatArray[floatArray > 5]"
   ],
   "metadata": {
    "collapsed": false,
    "pycharm": {
     "name": "#%%\n"
    }
   }
  },
  {
   "cell_type": "code",
   "execution_count": 27,
   "outputs": [],
   "source": [
    "floatArray[floatArray > 5] = 5"
   ],
   "metadata": {
    "collapsed": false,
    "pycharm": {
     "name": "#%%\n"
    }
   }
  },
  {
   "cell_type": "code",
   "execution_count": 30,
   "outputs": [
    {
     "data": {
      "text/plain": "array([[1., 2., 1., 2., 2.],\n       [1., 3., 2., 3., 2.],\n       [1., 4., 3., 3., 3.],\n       [2., 5., 4., 4., 4.],\n       [2., 5., 5., 2., 5.],\n       [3., 5., 4., 2., 5.],\n       [3., 5., 4., 1., 5.],\n       [3., 5., 5., 1., 3.]])"
     },
     "execution_count": 30,
     "metadata": {},
     "output_type": "execute_result"
    }
   ],
   "source": [
    "floatArray"
   ],
   "metadata": {
    "collapsed": false,
    "pycharm": {
     "name": "#%%\n"
    }
   }
  },
  {
   "cell_type": "code",
   "execution_count": 31,
   "outputs": [],
   "source": [
    "usecsv.writecsv('resultcsv.csv', list(floatArray))"
   ],
   "metadata": {
    "collapsed": false,
    "pycharm": {
     "name": "#%%\n"
    }
   }
  },
  {
   "cell_type": "code",
   "execution_count": null,
   "outputs": [],
   "source": [],
   "metadata": {
    "collapsed": false,
    "pycharm": {
     "name": "#%%\n"
    }
   }
  }
 ],
 "metadata": {
  "kernelspec": {
   "name": "python3",
   "language": "python",
   "display_name": "Python 3"
  },
  "language_info": {
   "codemirror_mode": {
    "name": "ipython",
    "version": 2
   },
   "file_extension": ".py",
   "mimetype": "text/x-python",
   "name": "python",
   "nbconvert_exporter": "python",
   "pygments_lexer": "ipython2",
   "version": "2.7.6"
  }
 },
 "nbformat": 4,
 "nbformat_minor": 0
}