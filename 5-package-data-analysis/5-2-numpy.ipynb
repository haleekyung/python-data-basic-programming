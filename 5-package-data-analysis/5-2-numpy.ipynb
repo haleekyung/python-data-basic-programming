{
 "cells": [
  {
   "cell_type": "code",
   "execution_count": 1,
   "metadata": {
    "collapsed": true
   },
   "outputs": [],
   "source": [
    "## 맥 데스크톱에서 작업을 하던 중 폴더가 날아가 이전 작업이 사라졌음\n",
    "## 넘파이 배열에 대한 기본지식은 study-note repository 에 기술함"
   ]
  },
  {
   "cell_type": "code",
   "execution_count": 13,
   "outputs": [],
   "source": [
    "import numpy as np\n",
    "import os, usecsv"
   ],
   "metadata": {
    "collapsed": false,
    "pycharm": {
     "name": "#%%\n"
    }
   }
  },
  {
   "cell_type": "code",
   "execution_count": 27,
   "outputs": [],
   "source": [
    "os.chdir(r'/Users/leekyungha/PycharmProjects/python-data-basic-programming/5-package-data-analysis/data')"
   ],
   "metadata": {
    "collapsed": false,
    "pycharm": {
     "name": "#%%\n"
    }
   }
  },
  {
   "cell_type": "code",
   "execution_count": 37,
   "outputs": [
    {
     "data": {
      "text/plain": "array([['sex', 'income', 'English', 'jobSatisfaction', 'stress'],\n       ['m', '3000', '500', '5', '5'],\n       ['f', '4000', '600', '4', '4'],\n       ['f', '5000', '700', '3', '2'],\n       ['m', '6000', '800', '2', '2'],\n       ['m', '4000', '700', '2', '5'],\n       ['m', '3000', '600', '1', '5'],\n       ['m', '3000', '500', '3', '1'],\n       ['m', '5000', '500', '3', '2'],\n       ['f', '4999', '600', '4', '3'],\n       ['f', '5000', '700', '5', '4'],\n       ['m', '3000', '500', '5', '5'],\n       ['m', '4000', '600', '4', '4'],\n       ['m', '5000', '700', '3', '2'],\n       ['m', '6000', '800', '2', '5'],\n       ['f', '4000', '700', '2', '4'],\n       ['f', '3000', '600', '1', '2'],\n       ['m', '3000', '500', '3', '2'],\n       ['m', '5000', '500', '3', '5'],\n       ['m', '4999', '600', '4', '5'],\n       ['m', '5000', '500', '3', '1'],\n       ['f', '4999', '600', '4', '2'],\n       ['f', '5000', '700', '5', '3'],\n       ['f', '3000', '500', '5', '4']], dtype='<U15')"
     },
     "execution_count": 37,
     "metadata": {},
     "output_type": "execute_result"
    }
   ],
   "source": [
    "quest = np.array(usecsv.switch(usecsv.opencsv('survey.csv')))\n",
    "quest"
   ],
   "metadata": {
    "collapsed": false,
    "pycharm": {
     "name": "#%%\n"
    }
   }
  },
  {
   "cell_type": "code",
   "execution_count": 38,
   "outputs": [
    {
     "data": {
      "text/plain": "array([['sex', 'income', 'English', 'jobSatisfaction', 'stress'],\n       ['m', '3000', '500', '5', '5'],\n       ['f', '4000', '600', '4', '4'],\n       ['f', '5000', '700', '3', '2'],\n       ['m', '6000', '800', '2', '2'],\n       ['m', '4000', '700', '2', '5'],\n       ['m', '3000', '600', '1', '5'],\n       ['m', '3000', '500', '3', '1'],\n       ['m', '5000', '500', '3', '2'],\n       ['f', '4999', '600', '4', '3'],\n       ['f', '5000', '700', '5', '4'],\n       ['m', '3000', '500', '5', '5'],\n       ['m', '4000', '600', '4', '4'],\n       ['m', '5000', '700', '3', '2'],\n       ['m', '6000', '800', '2', '5'],\n       ['f', '4000', '700', '2', '4'],\n       ['f', '3000', '600', '1', '2'],\n       ['m', '3000', '500', '3', '2'],\n       ['m', '5000', '500', '3', '5'],\n       ['m', '4999', '600', '4', '5'],\n       ['m', '5000', '500', '3', '1'],\n       ['f', '4999', '600', '4', '2'],\n       ['f', '5000', '700', '5', '3'],\n       ['f', '3000', '500', '5', '4']], dtype='<U15')"
     },
     "execution_count": 38,
     "metadata": {},
     "output_type": "execute_result"
    }
   ],
   "source": [
    "quest = np.array(usecsv.switch(usecsv.opencsv('survey.csv')))\n",
    "quest"
   ],
   "metadata": {
    "collapsed": false,
    "pycharm": {
     "name": "#%%\n"
    }
   }
  },
  {
   "cell_type": "code",
   "execution_count": 39,
   "outputs": [
    {
     "ename": "TypeError",
     "evalue": "'>' not supported between instances of 'numpy.ndarray' and 'int'",
     "output_type": "error",
     "traceback": [
      "\u001B[0;31m---------------------------------------------------------------------------\u001B[0m",
      "\u001B[0;31mTypeError\u001B[0m                                 Traceback (most recent call last)",
      "\u001B[0;32m/var/folders/wy/719kcs3n3n996fcg0cbr_0s00000gn/T/ipykernel_57521/2167552350.py\u001B[0m in \u001B[0;36m<module>\u001B[0;34m\u001B[0m\n\u001B[0;32m----> 1\u001B[0;31m \u001B[0mquest\u001B[0m \u001B[0;34m>\u001B[0m \u001B[0;36m5\u001B[0m\u001B[0;34m\u001B[0m\u001B[0;34m\u001B[0m\u001B[0m\n\u001B[0m",
      "\u001B[0;31mTypeError\u001B[0m: '>' not supported between instances of 'numpy.ndarray' and 'int'"
     ]
    }
   ],
   "source": [
    "quest > 5"
   ],
   "metadata": {
    "collapsed": false,
    "pycharm": {
     "name": "#%%\n"
    }
   }
  },
  {
   "cell_type": "code",
   "execution_count": null,
   "outputs": [],
   "source": [],
   "metadata": {
    "collapsed": false,
    "pycharm": {
     "name": "#%%\n"
    }
   }
  }
 ],
 "metadata": {
  "kernelspec": {
   "name": "pycharm-5941a516",
   "language": "python",
   "display_name": "PyCharm (python-coding-pratice)"
  },
  "language_info": {
   "codemirror_mode": {
    "name": "ipython",
    "version": 2
   },
   "file_extension": ".py",
   "mimetype": "text/x-python",
   "name": "python",
   "nbconvert_exporter": "python",
   "pygments_lexer": "ipython2",
   "version": "2.7.6"
  }
 },
 "nbformat": 4,
 "nbformat_minor": 0
}