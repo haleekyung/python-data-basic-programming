{
 "cells": [
  {
   "cell_type": "code",
   "execution_count": 15,
   "metadata": {
    "collapsed": true,
    "pycharm": {
     "name": "#%%\n"
    }
   },
   "outputs": [
    {
     "name": "stdout",
     "output_type": "stream",
     "text": [
      "Requirement already satisfied: beautifulsoup4 in /Library/Frameworks/Python.framework/Versions/3.8/lib/python3.8/site-packages (4.9.3)\r\n",
      "Requirement already satisfied: soupsieve>1.2 in /Library/Frameworks/Python.framework/Versions/3.8/lib/python3.8/site-packages (from beautifulsoup4) (2.2.1)\r\n",
      "Note: you may need to restart the kernel to use updated packages.\n"
     ]
    }
   ],
   "source": [
    "pip install beautifulsoup4"
   ]
  },
  {
   "cell_type": "code",
   "execution_count": 10,
   "outputs": [
    {
     "name": "stdout",
     "output_type": "stream",
     "text": [
      "Collecting requests\r\n",
      "  Downloading requests-2.26.0-py2.py3-none-any.whl (62 kB)\r\n",
      "\u001B[K     |████████████████████████████████| 62 kB 1.6 MB/s eta 0:00:011\r\n",
      "\u001B[?25hCollecting charset-normalizer~=2.0.0\r\n",
      "  Downloading charset_normalizer-2.0.5-py3-none-any.whl (37 kB)\r\n",
      "Collecting urllib3<1.27,>=1.21.1\r\n",
      "  Downloading urllib3-1.26.6-py2.py3-none-any.whl (138 kB)\r\n",
      "\u001B[K     |████████████████████████████████| 138 kB 1.4 MB/s eta 0:00:01\r\n",
      "\u001B[?25hRequirement already satisfied: idna<4,>=2.5 in /Library/Frameworks/Python.framework/Versions/3.8/lib/python3.8/site-packages (from requests) (2.10)\r\n",
      "Requirement already satisfied: certifi>=2017.4.17 in /Library/Frameworks/Python.framework/Versions/3.8/lib/python3.8/site-packages (from requests) (2021.5.30)\r\n",
      "Installing collected packages: urllib3, charset-normalizer, requests\r\n",
      "Successfully installed charset-normalizer-2.0.5 requests-2.26.0 urllib3-1.26.6\r\n",
      "Note: you may need to restart the kernel to use updated packages.\n"
     ]
    }
   ],
   "source": [
    "pip install requests"
   ],
   "metadata": {
    "collapsed": false,
    "pycharm": {
     "name": "#%%\n"
    }
   }
  },
  {
   "cell_type": "code",
   "execution_count": 7,
   "outputs": [],
   "source": [
    "# 기본 모듈 임포트하기\n",
    "import os, re\n",
    "import usecsv\n",
    "import requests"
   ],
   "metadata": {
    "collapsed": false,
    "pycharm": {
     "name": "#%%\n"
    }
   }
  },
  {
   "cell_type": "code",
   "execution_count": 17,
   "outputs": [],
   "source": [
    "# BeautifulSoup 불러오기\n",
    "from bs4 import BeautifulSoup as bs"
   ],
   "metadata": {
    "collapsed": false,
    "pycharm": {
     "name": "#%%\n"
    }
   }
  },
  {
   "cell_type": "code",
   "execution_count": 18,
   "outputs": [],
   "source": [
    "# urllib : 웹에서 얻은 데이터 가져오는 것으로 임포트\n",
    "import urllib.request as ur"
   ],
   "metadata": {
    "collapsed": false,
    "pycharm": {
     "name": "#%%\n"
    }
   }
  },
  {
   "cell_type": "code",
   "execution_count": 19,
   "outputs": [],
   "source": [
    "url = 'http://quotes.toscrape.com/'"
   ],
   "metadata": {
    "collapsed": false,
    "pycharm": {
     "name": "#%%\n"
    }
   }
  },
  {
   "cell_type": "code",
   "execution_count": 21,
   "outputs": [
    {
     "data": {
      "text/plain": "<http.client.HTTPResponse at 0x7fae6c92e8e0>"
     },
     "execution_count": 21,
     "metadata": {},
     "output_type": "execute_result"
    }
   ],
   "source": [
    "# urllib.request.urlopen('URL주소')\n",
    "html = ur.urlopen(url)\n",
    "html"
   ],
   "metadata": {
    "collapsed": false,
    "pycharm": {
     "name": "#%%\n"
    }
   }
  },
  {
   "cell_type": "code",
   "execution_count": 22,
   "outputs": [
    {
     "data": {
      "text/plain": "b'<!DOCTYPE html>\\n<html lang=\"en\">\\n<head>\\n\\t<meta charset=\"UTF-8\">\\n\\t<title>Quotes to Scrape</title>\\n   '"
     },
     "execution_count": 22,
     "metadata": {},
     "output_type": "execute_result"
    }
   ],
   "source": [
    "html.read()[:100]"
   ],
   "metadata": {
    "collapsed": false,
    "pycharm": {
     "name": "#%%\n"
    }
   }
  },
  {
   "cell_type": "code",
   "execution_count": 23,
   "outputs": [],
   "source": [
    "# BeautifulSoup으로 자료형 변환하기\n",
    "html = ur.urlopen(url) # 다시 웹사이트 내용을 불러와 html에 저장함\n",
    "soup = bs(html.read(), 'html.parser')"
   ],
   "metadata": {
    "collapsed": false,
    "pycharm": {
     "name": "#%%\n"
    }
   }
  },
  {
   "cell_type": "code",
   "execution_count": 24,
   "outputs": [
    {
     "data": {
      "text/plain": "<!DOCTYPE html>\n\n<html lang=\"en\">\n<head>\n<meta charset=\"utf-8\"/>\n<title>Quotes to Scrape</title>\n<link href=\"/static/bootstrap.min.css\" rel=\"stylesheet\"/>\n<link href=\"/static/main.css\" rel=\"stylesheet\"/>\n</head>\n<body>\n<div class=\"container\">\n<div class=\"row header-box\">\n<div class=\"col-md-8\">\n<h1>\n<a href=\"/\" style=\"text-decoration: none\">Quotes to Scrape</a>\n</h1>\n</div>\n<div class=\"col-md-4\">\n<p>\n<a href=\"/login\">Login</a>\n</p>\n</div>\n</div>\n<div class=\"row\">\n<div class=\"col-md-8\">\n<div class=\"quote\" itemscope=\"\" itemtype=\"http://schema.org/CreativeWork\">\n<span class=\"text\" itemprop=\"text\">“The world as we have created it is a process of our thinking. It cannot be changed without changing our thinking.”</span>\n<span>by <small class=\"author\" itemprop=\"author\">Albert Einstein</small>\n<a href=\"/author/Albert-Einstein\">(about)</a>\n</span>\n<div class=\"tags\">\n            Tags:\n            <meta class=\"keywords\" content=\"change,deep-thoughts,thinking,world\" itemprop=\"keywords\"/>\n<a class=\"tag\" href=\"/tag/change/page/1/\">change</a>\n<a class=\"tag\" href=\"/tag/deep-thoughts/page/1/\">deep-thoughts</a>\n<a class=\"tag\" href=\"/tag/thinking/page/1/\">thinking</a>\n<a class=\"tag\" href=\"/tag/world/page/1/\">world</a>\n</div>\n</div>\n<div class=\"quote\" itemscope=\"\" itemtype=\"http://schema.org/CreativeWork\">\n<span class=\"text\" itemprop=\"text\">“It is our choices, Harry, that show what we truly are, far more than our abilities.”</span>\n<span>by <small class=\"author\" itemprop=\"author\">J.K. Rowling</small>\n<a href=\"/author/J-K-Rowling\">(about)</a>\n</span>\n<div class=\"tags\">\n            Tags:\n            <meta class=\"keywords\" content=\"abilities,choices\" itemprop=\"keywords\"/>\n<a class=\"tag\" href=\"/tag/abilities/page/1/\">abilities</a>\n<a class=\"tag\" href=\"/tag/choices/page/1/\">choices</a>\n</div>\n</div>\n<div class=\"quote\" itemscope=\"\" itemtype=\"http://schema.org/CreativeWork\">\n<span class=\"text\" itemprop=\"text\">“There are only two ways to live your life. One is as though nothing is a miracle. The other is as though everything is a miracle.”</span>\n<span>by <small class=\"author\" itemprop=\"author\">Albert Einstein</small>\n<a href=\"/author/Albert-Einstein\">(about)</a>\n</span>\n<div class=\"tags\">\n            Tags:\n            <meta class=\"keywords\" content=\"inspirational,life,live,miracle,miracles\" itemprop=\"keywords\"/>\n<a class=\"tag\" href=\"/tag/inspirational/page/1/\">inspirational</a>\n<a class=\"tag\" href=\"/tag/life/page/1/\">life</a>\n<a class=\"tag\" href=\"/tag/live/page/1/\">live</a>\n<a class=\"tag\" href=\"/tag/miracle/page/1/\">miracle</a>\n<a class=\"tag\" href=\"/tag/miracles/page/1/\">miracles</a>\n</div>\n</div>\n<div class=\"quote\" itemscope=\"\" itemtype=\"http://schema.org/CreativeWork\">\n<span class=\"text\" itemprop=\"text\">“The person, be it gentleman or lady, who has not pleasure in a good novel, must be intolerably stupid.”</span>\n<span>by <small class=\"author\" itemprop=\"author\">Jane Austen</small>\n<a href=\"/author/Jane-Austen\">(about)</a>\n</span>\n<div class=\"tags\">\n            Tags:\n            <meta class=\"keywords\" content=\"aliteracy,books,classic,humor\" itemprop=\"keywords\"/>\n<a class=\"tag\" href=\"/tag/aliteracy/page/1/\">aliteracy</a>\n<a class=\"tag\" href=\"/tag/books/page/1/\">books</a>\n<a class=\"tag\" href=\"/tag/classic/page/1/\">classic</a>\n<a class=\"tag\" href=\"/tag/humor/page/1/\">humor</a>\n</div>\n</div>\n<div class=\"quote\" itemscope=\"\" itemtype=\"http://schema.org/CreativeWork\">\n<span class=\"text\" itemprop=\"text\">“Imperfection is beauty, madness is genius and it's better to be absolutely ridiculous than absolutely boring.”</span>\n<span>by <small class=\"author\" itemprop=\"author\">Marilyn Monroe</small>\n<a href=\"/author/Marilyn-Monroe\">(about)</a>\n</span>\n<div class=\"tags\">\n            Tags:\n            <meta class=\"keywords\" content=\"be-yourself,inspirational\" itemprop=\"keywords\"/>\n<a class=\"tag\" href=\"/tag/be-yourself/page/1/\">be-yourself</a>\n<a class=\"tag\" href=\"/tag/inspirational/page/1/\">inspirational</a>\n</div>\n</div>\n<div class=\"quote\" itemscope=\"\" itemtype=\"http://schema.org/CreativeWork\">\n<span class=\"text\" itemprop=\"text\">“Try not to become a man of success. Rather become a man of value.”</span>\n<span>by <small class=\"author\" itemprop=\"author\">Albert Einstein</small>\n<a href=\"/author/Albert-Einstein\">(about)</a>\n</span>\n<div class=\"tags\">\n            Tags:\n            <meta class=\"keywords\" content=\"adulthood,success,value\" itemprop=\"keywords\"/>\n<a class=\"tag\" href=\"/tag/adulthood/page/1/\">adulthood</a>\n<a class=\"tag\" href=\"/tag/success/page/1/\">success</a>\n<a class=\"tag\" href=\"/tag/value/page/1/\">value</a>\n</div>\n</div>\n<div class=\"quote\" itemscope=\"\" itemtype=\"http://schema.org/CreativeWork\">\n<span class=\"text\" itemprop=\"text\">“It is better to be hated for what you are than to be loved for what you are not.”</span>\n<span>by <small class=\"author\" itemprop=\"author\">André Gide</small>\n<a href=\"/author/Andre-Gide\">(about)</a>\n</span>\n<div class=\"tags\">\n            Tags:\n            <meta class=\"keywords\" content=\"life,love\" itemprop=\"keywords\"/>\n<a class=\"tag\" href=\"/tag/life/page/1/\">life</a>\n<a class=\"tag\" href=\"/tag/love/page/1/\">love</a>\n</div>\n</div>\n<div class=\"quote\" itemscope=\"\" itemtype=\"http://schema.org/CreativeWork\">\n<span class=\"text\" itemprop=\"text\">“I have not failed. I've just found 10,000 ways that won't work.”</span>\n<span>by <small class=\"author\" itemprop=\"author\">Thomas A. Edison</small>\n<a href=\"/author/Thomas-A-Edison\">(about)</a>\n</span>\n<div class=\"tags\">\n            Tags:\n            <meta class=\"keywords\" content=\"edison,failure,inspirational,paraphrased\" itemprop=\"keywords\"/>\n<a class=\"tag\" href=\"/tag/edison/page/1/\">edison</a>\n<a class=\"tag\" href=\"/tag/failure/page/1/\">failure</a>\n<a class=\"tag\" href=\"/tag/inspirational/page/1/\">inspirational</a>\n<a class=\"tag\" href=\"/tag/paraphrased/page/1/\">paraphrased</a>\n</div>\n</div>\n<div class=\"quote\" itemscope=\"\" itemtype=\"http://schema.org/CreativeWork\">\n<span class=\"text\" itemprop=\"text\">“A woman is like a tea bag; you never know how strong it is until it's in hot water.”</span>\n<span>by <small class=\"author\" itemprop=\"author\">Eleanor Roosevelt</small>\n<a href=\"/author/Eleanor-Roosevelt\">(about)</a>\n</span>\n<div class=\"tags\">\n            Tags:\n            <meta class=\"keywords\" content=\"misattributed-eleanor-roosevelt\" itemprop=\"keywords\"/>\n<a class=\"tag\" href=\"/tag/misattributed-eleanor-roosevelt/page/1/\">misattributed-eleanor-roosevelt</a>\n</div>\n</div>\n<div class=\"quote\" itemscope=\"\" itemtype=\"http://schema.org/CreativeWork\">\n<span class=\"text\" itemprop=\"text\">“A day without sunshine is like, you know, night.”</span>\n<span>by <small class=\"author\" itemprop=\"author\">Steve Martin</small>\n<a href=\"/author/Steve-Martin\">(about)</a>\n</span>\n<div class=\"tags\">\n            Tags:\n            <meta class=\"keywords\" content=\"humor,obvious,simile\" itemprop=\"keywords\"/>\n<a class=\"tag\" href=\"/tag/humor/page/1/\">humor</a>\n<a class=\"tag\" href=\"/tag/obvious/page/1/\">obvious</a>\n<a class=\"tag\" href=\"/tag/simile/page/1/\">simile</a>\n</div>\n</div>\n<nav>\n<ul class=\"pager\">\n<li class=\"next\">\n<a href=\"/page/2/\">Next <span aria-hidden=\"true\">→</span></a>\n</li>\n</ul>\n</nav>\n</div>\n<div class=\"col-md-4 tags-box\">\n<h2>Top Ten tags</h2>\n<span class=\"tag-item\">\n<a class=\"tag\" href=\"/tag/love/\" style=\"font-size: 28px\">love</a>\n</span>\n<span class=\"tag-item\">\n<a class=\"tag\" href=\"/tag/inspirational/\" style=\"font-size: 26px\">inspirational</a>\n</span>\n<span class=\"tag-item\">\n<a class=\"tag\" href=\"/tag/life/\" style=\"font-size: 26px\">life</a>\n</span>\n<span class=\"tag-item\">\n<a class=\"tag\" href=\"/tag/humor/\" style=\"font-size: 24px\">humor</a>\n</span>\n<span class=\"tag-item\">\n<a class=\"tag\" href=\"/tag/books/\" style=\"font-size: 22px\">books</a>\n</span>\n<span class=\"tag-item\">\n<a class=\"tag\" href=\"/tag/reading/\" style=\"font-size: 14px\">reading</a>\n</span>\n<span class=\"tag-item\">\n<a class=\"tag\" href=\"/tag/friendship/\" style=\"font-size: 10px\">friendship</a>\n</span>\n<span class=\"tag-item\">\n<a class=\"tag\" href=\"/tag/friends/\" style=\"font-size: 8px\">friends</a>\n</span>\n<span class=\"tag-item\">\n<a class=\"tag\" href=\"/tag/truth/\" style=\"font-size: 8px\">truth</a>\n</span>\n<span class=\"tag-item\">\n<a class=\"tag\" href=\"/tag/simile/\" style=\"font-size: 6px\">simile</a>\n</span>\n</div>\n</div>\n</div>\n<footer class=\"footer\">\n<div class=\"container\">\n<p class=\"text-muted\">\n                Quotes by: <a href=\"https://www.goodreads.com/quotes\">GoodReads.com</a>\n</p>\n<p class=\"copyright\">\n                Made with <span class=\"sh-red\">❤</span> by <a href=\"https://scrapinghub.com\">Scrapinghub</a>\n</p>\n</div>\n</footer>\n</body>\n</html>"
     },
     "execution_count": 24,
     "metadata": {},
     "output_type": "execute_result"
    }
   ],
   "source": [
    "soup"
   ],
   "metadata": {
    "collapsed": false,
    "pycharm": {
     "name": "#%%\n"
    }
   }
  },
  {
   "cell_type": "code",
   "execution_count": 25,
   "outputs": [
    {
     "data": {
      "text/plain": "http.client.HTTPResponse"
     },
     "execution_count": 25,
     "metadata": {},
     "output_type": "execute_result"
    }
   ],
   "source": [
    "type(html)"
   ],
   "metadata": {
    "collapsed": false,
    "pycharm": {
     "name": "#%%\n"
    }
   }
  },
  {
   "cell_type": "code",
   "execution_count": 26,
   "outputs": [
    {
     "data": {
      "text/plain": "bs4.BeautifulSoup"
     },
     "execution_count": 26,
     "metadata": {},
     "output_type": "execute_result"
    }
   ],
   "source": [
    "type(soup)"
   ],
   "metadata": {
    "collapsed": false,
    "pycharm": {
     "name": "#%%\n"
    }
   }
  },
  {
   "cell_type": "code",
   "execution_count": 29,
   "outputs": [],
   "source": [
    "soup = bs(ur.urlopen('http://quotes.toscrape.com/').read(), 'html.parser')"
   ],
   "metadata": {
    "collapsed": false,
    "pycharm": {
     "name": "#%%\n"
    }
   }
  },
  {
   "cell_type": "code",
   "execution_count": 35,
   "outputs": [],
   "source": [
    "# html 안의 특정 태그만 찾아내기\n",
    "quote = soup.find_all('span') # 글자를 감싸는 태그 -span 추출"
   ],
   "metadata": {
    "collapsed": false,
    "pycharm": {
     "name": "#%%\n"
    }
   }
  },
  {
   "cell_type": "code",
   "execution_count": 37,
   "outputs": [
    {
     "data": {
      "text/plain": "'“The world as we have created it is a process of our thinking. It cannot be changed without changing our thinking.”'"
     },
     "execution_count": 37,
     "metadata": {},
     "output_type": "execute_result"
    }
   ],
   "source": [
    "\n",
    "quote[0].text"
   ],
   "metadata": {
    "collapsed": false,
    "pycharm": {
     "name": "#%%\n"
    }
   }
  },
  {
   "cell_type": "code",
   "execution_count": 39,
   "outputs": [
    {
     "name": "stdout",
     "output_type": "stream",
     "text": [
      "“The world as we have created it is a process of our thinking. It cannot be changed without changing our thinking.”\n",
      "by Albert Einstein\n",
      "(about)\n",
      "\n",
      "“It is our choices, Harry, that show what we truly are, far more than our abilities.”\n",
      "by J.K. Rowling\n",
      "(about)\n",
      "\n",
      "“There are only two ways to live your life. One is as though nothing is a miracle. The other is as though everything is a miracle.”\n",
      "by Albert Einstein\n",
      "(about)\n",
      "\n",
      "“The person, be it gentleman or lady, who has not pleasure in a good novel, must be intolerably stupid.”\n",
      "by Jane Austen\n",
      "(about)\n",
      "\n",
      "“Imperfection is beauty, madness is genius and it's better to be absolutely ridiculous than absolutely boring.”\n",
      "by Marilyn Monroe\n",
      "(about)\n",
      "\n",
      "“Try not to become a man of success. Rather become a man of value.”\n",
      "by Albert Einstein\n",
      "(about)\n",
      "\n",
      "“It is better to be hated for what you are than to be loved for what you are not.”\n",
      "by André Gide\n",
      "(about)\n",
      "\n",
      "“I have not failed. I've just found 10,000 ways that won't work.”\n",
      "by Thomas A. Edison\n",
      "(about)\n",
      "\n",
      "“A woman is like a tea bag; you never know how strong it is until it's in hot water.”\n",
      "by Eleanor Roosevelt\n",
      "(about)\n",
      "\n",
      "“A day without sunshine is like, you know, night.”\n",
      "by Steve Martin\n",
      "(about)\n",
      "\n",
      "→\n",
      "\n",
      "love\n",
      "\n",
      "\n",
      "inspirational\n",
      "\n",
      "\n",
      "life\n",
      "\n",
      "\n",
      "humor\n",
      "\n",
      "\n",
      "books\n",
      "\n",
      "\n",
      "reading\n",
      "\n",
      "\n",
      "friendship\n",
      "\n",
      "\n",
      "friends\n",
      "\n",
      "\n",
      "truth\n",
      "\n",
      "\n",
      "simile\n",
      "\n",
      "❤\n"
     ]
    }
   ],
   "source": [
    "for i in quote:\n",
    "    print(i.text)"
   ],
   "metadata": {
    "collapsed": false,
    "pycharm": {
     "name": "#%%\n"
    }
   }
  },
  {
   "cell_type": "code",
   "execution_count": null,
   "outputs": [],
   "source": [],
   "metadata": {
    "collapsed": false,
    "pycharm": {
     "name": "#%%\n"
    }
   }
  }
 ],
 "metadata": {
  "kernelspec": {
   "display_name": "Python 3",
   "language": "python",
   "name": "python3"
  },
  "language_info": {
   "codemirror_mode": {
    "name": "ipython",
    "version": 2
   },
   "file_extension": ".py",
   "mimetype": "text/x-python",
   "name": "python",
   "nbconvert_exporter": "python",
   "pygments_lexer": "ipython2",
   "version": "2.7.6"
  }
 },
 "nbformat": 4,
 "nbformat_minor": 0
}